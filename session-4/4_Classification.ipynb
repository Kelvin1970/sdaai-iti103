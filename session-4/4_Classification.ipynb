{
  "nbformat": 4,
  "nbformat_minor": 0,
  "metadata": {
    "colab": {
      "name": "4 Classification.ipynb",
      "version": "0.3.2",
      "provenance": [],
      "collapsed_sections": [],
      "include_colab_link": true
    },
    "language_info": {
      "codemirror_mode": {
        "name": "ipython",
        "version": 3
      },
      "file_extension": ".py",
      "mimetype": "text/x-python",
      "name": "python",
      "nbconvert_exporter": "python",
      "pygments_lexer": "ipython3",
      "version": "3.6.8"
    },
    "kernelspec": {
      "display_name": "Python 3",
      "language": "python",
      "name": "python3"
    }
  },
  "cells": [
    {
      "cell_type": "markdown",
      "metadata": {
        "id": "view-in-github",
        "colab_type": "text"
      },
      "source": [
        "<a href=\"https://colab.research.google.com/github/nyp-sit/sdaai-pdc1-students/blob/master/ml-essentials/4_Classification.ipynb\" target=\"_parent\"><img src=\"https://colab.research.google.com/assets/colab-badge.svg\" alt=\"Open In Colab\"/></a>"
      ]
    },
    {
      "cell_type": "markdown",
      "metadata": {
        "id": "T_Mm98QgB81p",
        "colab_type": "text"
      },
      "source": [
        "# Classification\n",
        "\n"
      ]
    },
    {
      "cell_type": "markdown",
      "metadata": {
        "id": "AQxuTZ8NB81v",
        "colab_type": "text"
      },
      "source": [
        "## MNIST\n",
        "\n",
        "MNIST is a set of 70,0000 small handwritten images by high school students and employees of the US Census Bureau.  Each image is labeled with the digit it represents.  Scikit-Learn provides helper functions to download popular datasets, and MNIST is one of them.  "
      ]
    },
    {
      "cell_type": "code",
      "metadata": {
        "id": "lnPA8RsqB81v",
        "colab_type": "code",
        "outputId": "065aa82e-2acc-4c81-aa7f-046def848961",
        "colab": {
          "base_uri": "https://localhost:8080/",
          "height": 34
        }
      },
      "source": [
        "from sklearn.datasets import fetch_openml\n",
        "mnist = fetch_openml('mnist_784', version=1)\n",
        "mnist.keys()"
      ],
      "execution_count": 0,
      "outputs": [
        {
          "output_type": "execute_result",
          "data": {
            "text/plain": [
              "dict_keys(['data', 'target', 'feature_names', 'DESCR', 'details', 'categories', 'url'])"
            ]
          },
          "metadata": {
            "tags": []
          },
          "execution_count": 1
        }
      ]
    },
    {
      "cell_type": "markdown",
      "metadata": {
        "id": "w33TxICmMSkE",
        "colab_type": "text"
      },
      "source": [
        "Datasets loaded by Scikit-Learn generally have a similar dictionary structure where data key contains an array with one row per instance and one column per feature.  The target key contains an array with the label."
      ]
    },
    {
      "cell_type": "code",
      "metadata": {
        "id": "oEz--sQzB81z",
        "colab_type": "code",
        "outputId": "7351dcd7-9b01-40bc-e65c-e750096c80dc",
        "colab": {
          "base_uri": "https://localhost:8080/",
          "height": 34
        }
      },
      "source": [
        "X, y = mnist[\"data\"], mnist[\"target\"]\n",
        "X.shape"
      ],
      "execution_count": 0,
      "outputs": [
        {
          "output_type": "execute_result",
          "data": {
            "text/plain": [
              "(70000, 784)"
            ]
          },
          "metadata": {
            "tags": []
          },
          "execution_count": 2
        }
      ]
    },
    {
      "cell_type": "code",
      "metadata": {
        "id": "nOJTqlAtB811",
        "colab_type": "code",
        "outputId": "b8e4f6a2-7ede-449e-ebff-5e221c3b4fb0",
        "colab": {
          "base_uri": "https://localhost:8080/",
          "height": 34
        }
      },
      "source": [
        "y.shape"
      ],
      "execution_count": 0,
      "outputs": [
        {
          "output_type": "execute_result",
          "data": {
            "text/plain": [
              "(70000,)"
            ]
          },
          "metadata": {
            "tags": []
          },
          "execution_count": 3
        }
      ]
    },
    {
      "cell_type": "markdown",
      "metadata": {
        "id": "mwmK-igL_sc5",
        "colab_type": "text"
      },
      "source": [
        "There are 70000 images and each image has 784 features, which is 28x28 pixels, and whch feature represent one pixel's intensity from 0 to 255.   Let's take a look at the first digit from the dataset."
      ]
    },
    {
      "cell_type": "code",
      "metadata": {
        "id": "8lVdUeFgB816",
        "colab_type": "code",
        "outputId": "81ff879b-2969-4b48-c6e7-2dd6d969612e",
        "colab": {
          "base_uri": "https://localhost:8080/",
          "height": 264
        }
      },
      "source": [
        "%matplotlib inline\n",
        "import numpy as np\n",
        "import matplotlib as mpl\n",
        "import matplotlib.pyplot as plt\n",
        "\n",
        "some_digit = X[0]\n",
        "some_digit_image = some_digit.reshape(28, 28)\n",
        "plt.imshow(some_digit_image, cmap = mpl.cm.binary, interpolation=\"nearest\")\n",
        "plt.axis(\"off\")\n",
        "plt.show()"
      ],
      "execution_count": 0,
      "outputs": [
        {
          "output_type": "display_data",
          "data": {
            "image/png": "[encoded data removed]",
            "text/plain": [
              "<Figure size 432x288 with 1 Axes>"
            ]
          },
          "metadata": {
            "tags": []
          }
        }
      ]
    },
    {
      "cell_type": "code",
      "metadata": {
        "id": "dBWIj6AGB82A",
        "colab_type": "code",
        "colab": {}
      },
      "source": [
        "y[0]\n",
        "y.dtype"
      ],
      "execution_count": 0,
      "outputs": []
    },
    {
      "cell_type": "markdown",
      "metadata": {
        "id": "IAnKgcbFAsQ5",
        "colab_type": "text"
      },
      "source": [
        "Split the first 60000 images into a training set, and the last 10000 images as a test set."
      ]
    },
    {
      "cell_type": "code",
      "metadata": {
        "id": "AtvNaJVEB82P",
        "colab_type": "code",
        "colab": {}
      },
      "source": [
        "y = y.astype(np.uint8)\n",
        "X_train, X_test, y_train, y_test = X[:60000], X[60000:], y[:60000], y[60000:]\n",
        "#shuffle_index = np.random.permutation(60000)\n",
        "#X_train, y_train = X_train[shuffle_index], y_train[shuffle_index]"
      ],
      "execution_count": 0,
      "outputs": []
    },
    {
      "cell_type": "markdown",
      "metadata": {
        "id": "ki1MI_EbB82S",
        "colab_type": "text"
      },
      "source": [
        "# Binary classifier"
      ]
    },
    {
      "cell_type": "markdown",
      "metadata": {
        "id": "C0VCtuUFJRFd",
        "colab_type": "text"
      },
      "source": [
        "**Question 1**\n",
        "\n",
        "Creates a binary classifier capable of distinguishing between just two classes, 5 and not-5.  \n",
        "\n",
        "\n",
        "*   Creates the target vectors for this classification task\n",
        "*   Use Logistic Regression and trainit on the whole training set.  \n",
        "*   Predict the outcome of images of the number 5\n",
        "\n"
      ]
    },
    {
      "cell_type": "code",
      "metadata": {
        "id": "O9hyB1BGB82T",
        "colab_type": "code",
        "colab": {}
      },
      "source": [
        ""
      ],
      "execution_count": 0,
      "outputs": []
    },
    {
      "cell_type": "code",
      "metadata": {
        "id": "bEA7b9G0B82W",
        "colab_type": "code",
        "outputId": "f43d1abf-2152-4a54-868e-ad8574971470",
        "colab": {
          "base_uri": "https://localhost:8080/",
          "height": 87
        }
      },
      "source": [
        ""
      ],
      "execution_count": 0,
      "outputs": [
        {
          "output_type": "execute_result",
          "data": {
            "text/plain": [
              "LogisticRegression(C=1.0, class_weight=None, dual=False, fit_intercept=True,\n",
              "                   intercept_scaling=1, l1_ratio=None, max_iter=1000,\n",
              "                   multi_class='warn', n_jobs=5, penalty='l2', random_state=42,\n",
              "                   solver='lbfgs', tol=0.0001, verbose=0, warm_start=False)"
            ]
          },
          "metadata": {
            "tags": []
          },
          "execution_count": 7
        }
      ]
    },
    {
      "cell_type": "code",
      "metadata": {
        "id": "Ysm6wB57B82Y",
        "colab_type": "code",
        "outputId": "7c772982-8581-4a9e-9846-b7163b570c95",
        "colab": {
          "base_uri": "https://localhost:8080/",
          "height": 34
        }
      },
      "source": [
        ""
      ],
      "execution_count": 0,
      "outputs": [
        {
          "output_type": "execute_result",
          "data": {
            "text/plain": [
              "array([False])"
            ]
          },
          "metadata": {
            "tags": []
          },
          "execution_count": 8
        }
      ]
    },
    {
      "cell_type": "markdown",
      "metadata": {
        "id": "og2sJ4NWHWrc",
        "colab_type": "text"
      },
      "source": [
        "## Measuring Accuracy using Cross-Validation\n"
      ]
    },
    {
      "cell_type": "markdown",
      "metadata": {
        "id": "hQae1eJ7H23i",
        "colab_type": "text"
      },
      "source": [
        "**Question 2**\n",
        "\n",
        "Evaluate the model using cross-validation with the cross_val_score() function, with 3 folds.  "
      ]
    },
    {
      "cell_type": "code",
      "metadata": {
        "id": "HYv1hPCXB82b",
        "colab_type": "code",
        "colab": {}
      },
      "source": [
        ""
      ],
      "execution_count": 0,
      "outputs": []
    },
    {
      "cell_type": "markdown",
      "metadata": {
        "id": "v1N-vEQLLf07",
        "colab_type": "text"
      },
      "source": [
        "## Confusion Matrix\n",
        "\n",
        "**Question 3**\n",
        "\n",
        "A much better way to evaluate the performance of a classifier is to look at the confusion matrix.  \n",
        "\n",
        "\n",
        "*   Generate a set of predictions on the test set\n",
        "*   Compute the confusion matrix using the confusion_matrix() function\n",
        "\n"
      ]
    },
    {
      "cell_type": "code",
      "metadata": {
        "id": "AIsG4HJvB82l",
        "colab_type": "code",
        "colab": {}
      },
      "source": [
        ""
      ],
      "execution_count": 0,
      "outputs": []
    },
    {
      "cell_type": "code",
      "metadata": {
        "id": "_s0_VWbRB82n",
        "colab_type": "code",
        "colab": {}
      },
      "source": [
        ""
      ],
      "execution_count": 0,
      "outputs": []
    },
    {
      "cell_type": "markdown",
      "metadata": {
        "id": "fl49kQe0NCXS",
        "colab_type": "text"
      },
      "source": [
        "A perfect classifier would have noly true positives and true negatives, so its confusion matrix would have non zero values only on its main diagonal."
      ]
    },
    {
      "cell_type": "code",
      "metadata": {
        "id": "xAZAsN8jB82p",
        "colab_type": "code",
        "colab": {}
      },
      "source": [
        "y_train_perfect_predictions = y_train_5  # pretend we reached perfection\n",
        "confusion_matrix(y_train_5, y_train_perfect_predictions)"
      ],
      "execution_count": 0,
      "outputs": []
    },
    {
      "cell_type": "markdown",
      "metadata": {
        "id": "P3eFi0FnNhIO",
        "colab_type": "text"
      },
      "source": [
        "## Precision and Recall\n",
        "\n",
        "**Question 4**\n",
        "\n",
        "Compute the precision, recall and F1 score"
      ]
    },
    {
      "cell_type": "code",
      "metadata": {
        "id": "aPGew5oZB82s",
        "colab_type": "code",
        "colab": {}
      },
      "source": [
        ""
      ],
      "execution_count": 0,
      "outputs": []
    },
    {
      "cell_type": "markdown",
      "metadata": {
        "id": "8PjLjwlbf47C",
        "colab_type": "text"
      },
      "source": [
        "Calculate the precision manually using the formula,\n",
        "\n",
        "`precision = TP/(TP+FP)`"
      ]
    },
    {
      "cell_type": "code",
      "metadata": {
        "id": "QsQP8OxAeaZM",
        "colab_type": "code",
        "colab": {}
      },
      "source": [
        "4391 / (4391 + 622)"
      ],
      "execution_count": 0,
      "outputs": []
    },
    {
      "cell_type": "code",
      "metadata": {
        "id": "2pf2Dg51B82y",
        "colab_type": "code",
        "colab": {}
      },
      "source": [
        ""
      ],
      "execution_count": 0,
      "outputs": []
    },
    {
      "cell_type": "markdown",
      "metadata": {
        "id": "yddTvxNNgF0e",
        "colab_type": "text"
      },
      "source": [
        "Calculate the recall manually using the formula,\n",
        "\n",
        "`recall = TP/(TP+FN)`"
      ]
    },
    {
      "cell_type": "code",
      "metadata": {
        "id": "RUeHTbY8ecUI",
        "colab_type": "code",
        "colab": {}
      },
      "source": [
        "4391 / (4391 + 1030)"
      ],
      "execution_count": 0,
      "outputs": []
    },
    {
      "cell_type": "code",
      "metadata": {
        "id": "51n5f-ohB823",
        "colab_type": "code",
        "colab": {}
      },
      "source": [
        ""
      ],
      "execution_count": 0,
      "outputs": []
    },
    {
      "cell_type": "markdown",
      "metadata": {
        "id": "bOKVJoOHpdPV",
        "colab_type": "text"
      },
      "source": [
        "Calculate the F1 score manually using the formula\n",
        "\n",
        "`F1 = 2*precision*recall/(precision + recall)`"
      ]
    },
    {
      "cell_type": "code",
      "metadata": {
        "id": "tGrbjp5KB825",
        "colab_type": "code",
        "colab": {}
      },
      "source": [
        "4391 / (4391 + (622 + 1030) / 2)"
      ],
      "execution_count": 0,
      "outputs": []
    },
    {
      "cell_type": "markdown",
      "metadata": {
        "id": "Wt3c3e2GqKbF",
        "colab_type": "text"
      },
      "source": [
        "## Precision and recall tradeoff\n",
        "\n",
        "Use the decision_function() method to compute the scores.   With a higher threshold, it decreases the recall.  To decide which threshold to use, get the scores of all instances in the training set using the cross_val_predict() function to return decision scores instead of predictions."
      ]
    },
    {
      "cell_type": "code",
      "metadata": {
        "id": "Lk7wPC5gB828",
        "colab_type": "code",
        "outputId": "f239d0d6-513a-4738-d2bb-19971d489526",
        "colab": {
          "base_uri": "https://localhost:8080/",
          "height": 34
        }
      },
      "source": [
        "y_scores = lr_clf.decision_function([some_digit])\n",
        "y_scores"
      ],
      "execution_count": 0,
      "outputs": [
        {
          "output_type": "execute_result",
          "data": {
            "text/plain": [
              "array([1.85477559])"
            ]
          },
          "metadata": {
            "tags": []
          },
          "execution_count": 12
        }
      ]
    },
    {
      "cell_type": "markdown",
      "metadata": {
        "id": "247XTW-VT2s2",
        "colab_type": "text"
      },
      "source": [
        "With threshold = 0, the prediction is correct."
      ]
    },
    {
      "cell_type": "code",
      "metadata": {
        "id": "1uGbDVN7B82_",
        "colab_type": "code",
        "outputId": "1c0ef452-64cd-45fb-9403-35d51266c3c4",
        "colab": {
          "base_uri": "https://localhost:8080/",
          "height": 34
        }
      },
      "source": [
        "threshold = 0\n",
        "y_some_digit_pred = (y_scores > threshold)\n",
        "y_some_digit_pred"
      ],
      "execution_count": 0,
      "outputs": [
        {
          "output_type": "execute_result",
          "data": {
            "text/plain": [
              "array([ True])"
            ]
          },
          "metadata": {
            "tags": []
          },
          "execution_count": 14
        }
      ]
    },
    {
      "cell_type": "markdown",
      "metadata": {
        "id": "FnFq_IupT9xp",
        "colab_type": "text"
      },
      "source": [
        "With threshold = 8000, prediction is wrong."
      ]
    },
    {
      "cell_type": "code",
      "metadata": {
        "id": "t_nQQ48UB83G",
        "colab_type": "code",
        "outputId": "ca3875f4-17c4-4ea0-9289-f016e6668c8e",
        "colab": {
          "base_uri": "https://localhost:8080/",
          "height": 34
        }
      },
      "source": [
        "threshold = 8000\n",
        "y_some_digit_pred = (y_scores > threshold)\n",
        "y_some_digit_pred"
      ],
      "execution_count": 0,
      "outputs": [
        {
          "output_type": "execute_result",
          "data": {
            "text/plain": [
              "array([False])"
            ]
          },
          "metadata": {
            "tags": []
          },
          "execution_count": 15
        }
      ]
    },
    {
      "cell_type": "markdown",
      "metadata": {
        "id": "JNuRTKNbUFTF",
        "colab_type": "text"
      },
      "source": [
        "Perform cross validation to get the scores for all instances."
      ]
    },
    {
      "cell_type": "code",
      "metadata": {
        "id": "gYak-Q24B83I",
        "colab_type": "code",
        "colab": {}
      },
      "source": [
        "y_scores = cross_val_predict(lr_clf, X_train, y_train_5, cv=3,\n",
        "                             method=\"decision_function\")"
      ],
      "execution_count": 0,
      "outputs": []
    },
    {
      "cell_type": "markdown",
      "metadata": {
        "id": "bBILPUtFUL1j",
        "colab_type": "text"
      },
      "source": [
        "Compute precision and recall for all possible thresholds using the precision_recall_curve function."
      ]
    },
    {
      "cell_type": "code",
      "metadata": {
        "id": "lHkO1oNeB83L",
        "colab_type": "code",
        "colab": {}
      },
      "source": [
        "from sklearn.metrics import precision_recall_curve\n",
        "\n",
        "precisions, recalls, thresholds = precision_recall_curve(y_train_5, y_scores)"
      ],
      "execution_count": 0,
      "outputs": []
    },
    {
      "cell_type": "code",
      "metadata": {
        "id": "azObPxIkB83O",
        "colab_type": "code",
        "colab": {}
      },
      "source": [
        "def plot_precision_recall_vs_threshold(precisions, recalls, thresholds):\n",
        "    plt.plot(thresholds, precisions[:-1], \"b--\", label=\"Precision\", linewidth=2)\n",
        "    plt.plot(thresholds, recalls[:-1], \"g-\", label=\"Recall\", linewidth=2)\n",
        "    plt.legend(loc=\"center right\", fontsize=16) \n",
        "    plt.xlabel(\"Threshold\", fontsize=16)        \n",
        "    plt.grid(True)                              \n",
        "    plt.axis([-4, 4, 0, 1])             \n",
        "\n",
        "plt.figure(figsize=(8, 4))                      \n",
        "plot_precision_recall_vs_threshold(precisions, recalls, thresholds)\n",
        "\n",
        "plt.show()"
      ],
      "execution_count": 0,
      "outputs": []
    },
    {
      "cell_type": "code",
      "metadata": {
        "id": "YfZlPm4qB83T",
        "colab_type": "code",
        "outputId": "57954243-3d7a-42e6-9766-39d42488321e",
        "colab": {
          "base_uri": "https://localhost:8080/",
          "height": 34
        }
      },
      "source": [
        "(y_train_pred == (y_scores > 0)).all()"
      ],
      "execution_count": 0,
      "outputs": [
        {
          "output_type": "execute_result",
          "data": {
            "text/plain": [
              "True"
            ]
          },
          "metadata": {
            "tags": []
          },
          "execution_count": 19
        }
      ]
    },
    {
      "cell_type": "code",
      "metadata": {
        "id": "e6FpiXz4B83X",
        "colab_type": "code",
        "colab": {}
      },
      "source": [
        "def plot_precision_vs_recall(precisions, recalls):\n",
        "    plt.plot(recalls, precisions, \"b-\", linewidth=2)\n",
        "    plt.xlabel(\"Recall\", fontsize=16)\n",
        "    plt.ylabel(\"Precision\", fontsize=16)\n",
        "    plt.axis([0, 1, 0, 1])\n",
        "    plt.grid(True)\n",
        "\n",
        "plt.figure(figsize=(8, 6))\n",
        "plot_precision_vs_recall(precisions, recalls)\n",
        "\n",
        "plt.show()"
      ],
      "execution_count": 0,
      "outputs": []
    },
    {
      "cell_type": "markdown",
      "metadata": {
        "id": "R7AaLbqHUng3",
        "colab_type": "text"
      },
      "source": [
        "We want to aim for 90% precision, compute the threshold value."
      ]
    },
    {
      "cell_type": "code",
      "metadata": {
        "id": "4Y1-4NknB83c",
        "colab_type": "code",
        "outputId": "69869f53-a423-4cca-e470-6b6877f5cd99",
        "colab": {
          "base_uri": "https://localhost:8080/",
          "height": 34
        }
      },
      "source": [
        "threshold_90_precision = thresholds[np.argmax(precisions >= 0.90)]\n",
        "threshold_90_precision"
      ],
      "execution_count": 0,
      "outputs": [
        {
          "output_type": "execute_result",
          "data": {
            "text/plain": [
              "0.4003658839573035"
            ]
          },
          "metadata": {
            "tags": []
          },
          "execution_count": 23
        }
      ]
    },
    {
      "cell_type": "code",
      "metadata": {
        "id": "T69AzgsLB83i",
        "colab_type": "code",
        "colab": {}
      },
      "source": [
        "y_train_pred_90 = (y_scores >= threshold_90_precision)"
      ],
      "execution_count": 0,
      "outputs": []
    },
    {
      "cell_type": "markdown",
      "metadata": {
        "id": "7-44nclYVJQa",
        "colab_type": "text"
      },
      "source": [
        "Compute the precision and recall score"
      ]
    },
    {
      "cell_type": "code",
      "metadata": {
        "id": "xSwNkEYiB83k",
        "colab_type": "code",
        "outputId": "24f4bfba-1791-4e7d-9368-ecd34f5dc83e",
        "colab": {
          "base_uri": "https://localhost:8080/",
          "height": 34
        }
      },
      "source": [
        "precision_score(y_train_5, y_train_pred_90)"
      ],
      "execution_count": 0,
      "outputs": [
        {
          "output_type": "execute_result",
          "data": {
            "text/plain": [
              "0.9001721170395869"
            ]
          },
          "metadata": {
            "tags": []
          },
          "execution_count": 30
        }
      ]
    },
    {
      "cell_type": "code",
      "metadata": {
        "id": "8c1kabSUB83n",
        "colab_type": "code",
        "outputId": "0d2600e3-4c7e-476b-b53a-49893ed07347",
        "colab": {
          "base_uri": "https://localhost:8080/",
          "height": 34
        }
      },
      "source": [
        "recall_score(y_train_5, y_train_pred_90)"
      ],
      "execution_count": 0,
      "outputs": [
        {
          "output_type": "execute_result",
          "data": {
            "text/plain": [
              "0.7718133185759085"
            ]
          },
          "metadata": {
            "tags": []
          },
          "execution_count": 31
        }
      ]
    },
    {
      "cell_type": "markdown",
      "metadata": {
        "id": "eQNRFi0psX4-",
        "colab_type": "text"
      },
      "source": [
        "# ROC Curves"
      ]
    },
    {
      "cell_type": "markdown",
      "metadata": {
        "id": "NBOH7i-AVVls",
        "colab_type": "text"
      },
      "source": [
        "The receiver operation characteristic (ROC) curve is another common tool used with binary classifiers.  It is similar to the precision/recall curve, but it plots the true positive rate (recall) against the false positive rate.  "
      ]
    },
    {
      "cell_type": "markdown",
      "metadata": {
        "id": "vFMPnJ8gVou3",
        "colab_type": "text"
      },
      "source": [
        "**Question 5**\n",
        "\n",
        "Compute the True positive rate (TPR), False positive rate (FPR) for various thresholds using the roc_curve() function."
      ]
    },
    {
      "cell_type": "code",
      "metadata": {
        "id": "gl2oIIJwsrZU",
        "colab_type": "code",
        "colab": {}
      },
      "source": [
        ""
      ],
      "execution_count": 0,
      "outputs": []
    },
    {
      "cell_type": "code",
      "metadata": {
        "id": "XRx8OqyRssRt",
        "colab_type": "code",
        "outputId": "225df059-de74-4fc2-abe2-34159c395083",
        "colab": {
          "base_uri": "https://localhost:8080/",
          "height": 396
        }
      },
      "source": [
        "def plot_roc_curve(fpr, tpr, label=None):\n",
        "    plt.plot(fpr, tpr, linewidth=2, label=label)\n",
        "    plt.plot([0, 1], [0, 1], 'k--') # dashed diagonal\n",
        "    plt.axis([0, 1, 0, 1])                                    \n",
        "    plt.xlabel('False Positive Rate (Fall-Out)', fontsize=16) \n",
        "    plt.ylabel('True Positive Rate (Recall)', fontsize=16)    \n",
        "    plt.grid(True)                                            \n",
        "\n",
        "plt.figure(figsize=(8, 6))                        \n",
        "plot_roc_curve(fpr, tpr)\n",
        "plt.plot([4.837e-3, 4.837e-3], [0., 0.4368], \"r:\") \n",
        "plt.plot([0.0, 4.837e-3], [0.4368, 0.4368], \"r:\")  \n",
        "plt.plot([4.837e-3], [0.4368], \"ro\")               \n",
        "plt.show()"
      ],
      "execution_count": 0,
      "outputs": [
        {
          "output_type": "display_data",
          "data": {
            "image/png": "[encoded data removed]",
            "text/plain": [
              "<Figure size 576x432 with 1 Axes>"
            ]
          },
          "metadata": {
            "tags": []
          }
        }
      ]
    },
    {
      "cell_type": "markdown",
      "metadata": {
        "id": "9CZ_n_oGWTmn",
        "colab_type": "text"
      },
      "source": [
        "The higher the recall (TPR), the more false positives (FPR) the classifier produces.  The dotted line represents the ROC curve of a purely random classifier, a good classfier stays as far away from the line as possible.\n",
        "\n",
        "**Quesiton 6**\n",
        "\n",
        "Compute the area under the curve (AUC).  "
      ]
    },
    {
      "cell_type": "code",
      "metadata": {
        "id": "I71PFhdwsy3n",
        "colab_type": "code",
        "outputId": "2210192b-0814-439b-b2e7-5bbe77421b14",
        "colab": {
          "base_uri": "https://localhost:8080/",
          "height": 34
        }
      },
      "source": [
        ""
      ],
      "execution_count": 0,
      "outputs": [
        {
          "output_type": "execute_result",
          "data": {
            "text/plain": [
              "0.9744433315674055"
            ]
          },
          "metadata": {
            "tags": []
          },
          "execution_count": 45
        }
      ]
    },
    {
      "cell_type": "markdown",
      "metadata": {
        "id": "1K1uPeXrB837",
        "colab_type": "text"
      },
      "source": [
        "# Multiclass classification"
      ]
    },
    {
      "cell_type": "markdown",
      "metadata": {
        "id": "L7SaIkTTXM7Q",
        "colab_type": "text"
      },
      "source": [
        "Multiclass classifiers distinguish between more than two classess.  Scikit-learn detects when you try to use a binary classification alogorithm for a multiple class classification task and it automatically runs one-versus-all (OvA)\n",
        "\n",
        "**Question 7**\n",
        "\n",
        "Use Linear Regression to train the original target classes from 0 to 9 and make a prediction of the first digit."
      ]
    },
    {
      "cell_type": "code",
      "metadata": {
        "id": "hFp4PXurB838",
        "colab_type": "code",
        "colab": {}
      },
      "source": [
        ""
      ],
      "execution_count": 0,
      "outputs": []
    },
    {
      "cell_type": "markdown",
      "metadata": {
        "id": "yMFdDeHqYZ81",
        "colab_type": "text"
      },
      "source": [
        "Under the hood, Scikit-Learn actually trained 10 binary classifiers, got their decision scores for the image and selected the class with the highest score.  \n",
        "\n",
        "**Question 8**\n",
        "\n",
        "Conpute the scores using the decision_function() method to return 10 scores, one per class."
      ]
    },
    {
      "cell_type": "code",
      "metadata": {
        "id": "cpNVjIuLB84A",
        "colab_type": "code",
        "colab": {}
      },
      "source": [
        ""
      ],
      "execution_count": 0,
      "outputs": []
    },
    {
      "cell_type": "markdown",
      "metadata": {
        "id": "FNlx7EgOZFN7",
        "colab_type": "text"
      },
      "source": [
        "The highest score is the one corresponding to the correct class."
      ]
    },
    {
      "cell_type": "code",
      "metadata": {
        "id": "Y4SuHkxLB84C",
        "colab_type": "code",
        "colab": {}
      },
      "source": [
        "np.argmax(some_digit_scores)"
      ],
      "execution_count": 0,
      "outputs": []
    },
    {
      "cell_type": "code",
      "metadata": {
        "id": "XlPa3cdPB84E",
        "colab_type": "code",
        "colab": {}
      },
      "source": [
        "lr_clf.classes_"
      ],
      "execution_count": 0,
      "outputs": []
    },
    {
      "cell_type": "code",
      "metadata": {
        "id": "uHyu9tcxB84G",
        "colab_type": "code",
        "colab": {}
      },
      "source": [
        "lr_clf.classes_[5]"
      ],
      "execution_count": 0,
      "outputs": []
    },
    {
      "cell_type": "markdown",
      "metadata": {
        "id": "CT8jOWl6ZSPt",
        "colab_type": "text"
      },
      "source": [
        "**Question 9**\n",
        "\n",
        "Use OvO strategy to train and predict the digit."
      ]
    },
    {
      "cell_type": "code",
      "metadata": {
        "id": "YQx-BDlLB84I",
        "colab_type": "code",
        "colab": {}
      },
      "source": [
        ""
      ],
      "execution_count": 0,
      "outputs": []
    },
    {
      "cell_type": "code",
      "metadata": {
        "id": "YeAQuik5B84M",
        "colab_type": "code",
        "colab": {}
      },
      "source": [
        ""
      ],
      "execution_count": 0,
      "outputs": []
    },
    {
      "cell_type": "markdown",
      "metadata": {
        "id": "ZkNaCi4uZqbr",
        "colab_type": "text"
      },
      "source": [
        "**Question 10**\n",
        "\n",
        "Use cross_val_score to evaluate the classifier"
      ]
    },
    {
      "cell_type": "code",
      "metadata": {
        "id": "S9IlBdvZB84V",
        "colab_type": "code",
        "colab": {}
      },
      "source": [
        ""
      ],
      "execution_count": 0,
      "outputs": []
    },
    {
      "cell_type": "markdown",
      "metadata": {
        "id": "YSfDY8tSZ9ah",
        "colab_type": "text"
      },
      "source": [
        "**Question 11**\n",
        "\n",
        "Use Standard Scalar to scale to improve the accuracy of the classifier"
      ]
    },
    {
      "cell_type": "code",
      "metadata": {
        "id": "simOnijpB84Y",
        "colab_type": "code",
        "colab": {}
      },
      "source": [
        ""
      ],
      "execution_count": 0,
      "outputs": []
    },
    {
      "cell_type": "markdown",
      "metadata": {
        "id": "X4JJ4J2mabyg",
        "colab_type": "text"
      },
      "source": [
        "**Question 12**\n",
        "\n",
        "Compute the confusion matrix of the classifier."
      ]
    },
    {
      "cell_type": "code",
      "metadata": {
        "id": "w-6kiojKB84b",
        "colab_type": "code",
        "colab": {}
      },
      "source": [
        ""
      ],
      "execution_count": 0,
      "outputs": []
    }
  ]
}