{
 "cells": [
  {
   "cell_type": "markdown",
   "metadata": {
    "colab_type": "text",
    "id": "view-in-github"
   },
   "source": [
    "<a href=\"https://colab.research.google.com/github/nyp-sit/sdaai-iti103/blob/master/session-4/4_Classification_Solution(extra).ipynb\" target=\"_parent\"><img src=\"https://colab.research.google.com/assets/colab-badge.svg\" alt=\"Open In Colab\"/></a>"
   ]
  },
  {
   "cell_type": "markdown",
   "metadata": {
    "colab_type": "text",
    "id": "T_Mm98QgB81p"
   },
   "source": [
    "# Classification\n",
    "\n"
   ]
  },
  {
   "cell_type": "markdown",
   "metadata": {
    "colab_type": "text",
    "id": "AQxuTZ8NB81v"
   },
   "source": [
    "## MNIST\n",
    "\n",
    "MNIST is a set of 70,0000 small handwritten images by high school students and employees of the US Census Bureau.  Each image is labeled with the digit it represents.  Scikit-Learn provides helper functions to download popular datasets, and MNIST is one of them.  "
   ]
  },
  {
   "cell_type": "code",
   "execution_count": 1,
   "metadata": {
    "colab": {
     "base_uri": "https://localhost:8080/",
     "height": 35
    },
    "colab_type": "code",
    "id": "lnPA8RsqB81v",
    "outputId": "6f225c80-0927-4926-f361-a15b14ad78b5"
   },
   "outputs": [
    {
     "data": {
      "text/plain": [
       "dict_keys(['data', 'target', 'feature_names', 'DESCR', 'details', 'categories', 'url'])"
      ]
     },
     "execution_count": 1,
     "metadata": {
      "tags": []
     },
     "output_type": "execute_result"
    }
   ],
   "source": [
    "from sklearn.datasets import fetch_openml\n",
    "mnist = fetch_openml('mnist_784', version=1)\n",
    "mnist.keys()"
   ]
  },
  {
   "cell_type": "markdown",
   "metadata": {
    "colab_type": "text",
    "id": "w33TxICmMSkE"
   },
   "source": [
    "Datasets loaded by Scikit-Learn generally have a similar dictionary structure where data key contains an array with one row per instance and one column per feature.  The target key contains an array with the label."
   ]
  },
  {
   "cell_type": "code",
   "execution_count": 3,
   "metadata": {
    "colab": {
     "base_uri": "https://localhost:8080/",
     "height": 35
    },
    "colab_type": "code",
    "id": "oEz--sQzB81z",
    "outputId": "e632d9f4-a4ab-4828-9bc6-e5e8011d9c35"
   },
   "outputs": [
    {
     "data": {
      "text/plain": [
       "(70000, 784)"
      ]
     },
     "execution_count": 3,
     "metadata": {
      "tags": []
     },
     "output_type": "execute_result"
    }
   ],
   "source": [
    "X, y = mnist[\"data\"], mnist[\"target\"]\n",
    "X.shape"
   ]
  },
  {
   "cell_type": "code",
   "execution_count": 4,
   "metadata": {
    "colab": {
     "base_uri": "https://localhost:8080/",
     "height": 139
    },
    "colab_type": "code",
    "id": "HaK7ZvtyzdJx",
    "outputId": "22f76a9c-3ac8-42c2-95ec-63abaa94bf67"
   },
   "outputs": [
    {
     "name": "stdout",
     "output_type": "stream",
     "text": [
      "[[0. 0. 0. ... 0. 0. 0.]\n",
      " [0. 0. 0. ... 0. 0. 0.]\n",
      " [0. 0. 0. ... 0. 0. 0.]\n",
      " ...\n",
      " [0. 0. 0. ... 0. 0. 0.]\n",
      " [0. 0. 0. ... 0. 0. 0.]\n",
      " [0. 0. 0. ... 0. 0. 0.]]\n"
     ]
    }
   ],
   "source": [
    "print(X[:10])"
   ]
  },
  {
   "cell_type": "code",
   "execution_count": 5,
   "metadata": {
    "colab": {
     "base_uri": "https://localhost:8080/",
     "height": 35
    },
    "colab_type": "code",
    "id": "nOJTqlAtB811",
    "outputId": "d8a53107-9611-43d0-9ba4-dc579bc3f865"
   },
   "outputs": [
    {
     "data": {
      "text/plain": [
       "(70000,)"
      ]
     },
     "execution_count": 5,
     "metadata": {
      "tags": []
     },
     "output_type": "execute_result"
    }
   ],
   "source": [
    "y.shape"
   ]
  },
  {
   "cell_type": "code",
   "execution_count": 6,
   "metadata": {
    "colab": {
     "base_uri": "https://localhost:8080/",
     "height": 35
    },
    "colab_type": "code",
    "id": "czZxUH0i0DgF",
    "outputId": "734253d0-7fed-427c-f1af-ed385da93f72"
   },
   "outputs": [
    {
     "name": "stdout",
     "output_type": "stream",
     "text": [
      "['5' '0' '4' '1' '9' '2' '1' '3' '1' '4']\n"
     ]
    }
   ],
   "source": [
    "print(y[:10])"
   ]
  },
  {
   "cell_type": "markdown",
   "metadata": {
    "colab_type": "text",
    "id": "mwmK-igL_sc5"
   },
   "source": [
    "There are 70000 images and each image has 784 features, which is 28x28 pixels, and whch feature represent one pixel's intensity from 0 to 255.   Let's take a look at the first digit from the dataset."
   ]
  },
  {
   "cell_type": "code",
   "execution_count": 7,
   "metadata": {
    "colab": {
     "base_uri": "https://localhost:8080/",
     "height": 265
    },
    "colab_type": "code",
    "id": "8lVdUeFgB816",
    "outputId": "487e7fe8-16dd-4c18-e13a-36b5901baee0"
   },
   "outputs": [
    {
     "data": {
      "image/png": "[encoded data removed]",
      "text/plain": [
       "<Figure size 432x288 with 1 Axes>"
      ]
     },
     "metadata": {
      "tags": []
     },
     "output_type": "display_data"
    }
   ],
   "source": [
    "%matplotlib inline\n",
    "import numpy as np\n",
    "import matplotlib as mpl\n",
    "import matplotlib.pyplot as plt\n",
    "\n",
    "some_digit = X[0]\n",
    "some_digit_image = some_digit.reshape(28, 28)\n",
    "plt.imshow(some_digit_image, cmap = mpl.cm.binary, interpolation=\"nearest\")\n",
    "plt.axis(\"off\")\n",
    "plt.show()"
   ]
  },
  {
   "cell_type": "code",
   "execution_count": 8,
   "metadata": {
    "colab": {
     "base_uri": "https://localhost:8080/",
     "height": 35
    },
    "colab_type": "code",
    "id": "cq4kVQVc0fWe",
    "outputId": "7e4ff5ea-f969-48ab-f1ad-7a6d00bbc8da"
   },
   "outputs": [
    {
     "data": {
      "text/plain": [
       "(28, 28)"
      ]
     },
     "execution_count": 8,
     "metadata": {
      "tags": []
     },
     "output_type": "execute_result"
    }
   ],
   "source": [
    "X[0].reshape(28,28).shape"
   ]
  },
  {
   "cell_type": "code",
   "execution_count": 9,
   "metadata": {
    "colab": {
     "base_uri": "https://localhost:8080/",
     "height": 35
    },
    "colab_type": "code",
    "id": "dBWIj6AGB82A",
    "outputId": "a2ffb8e3-106c-41cf-f40f-c89f3b11fe73"
   },
   "outputs": [
    {
     "data": {
      "text/plain": [
       "array(['5', '0', '4', '1', '9', '2', '1', '3', '1', '4'], dtype=object)"
      ]
     },
     "execution_count": 9,
     "metadata": {
      "tags": []
     },
     "output_type": "execute_result"
    }
   ],
   "source": [
    "y[:10]"
   ]
  },
  {
   "cell_type": "markdown",
   "metadata": {
    "colab_type": "text",
    "id": "IAnKgcbFAsQ5"
   },
   "source": [
    "Split the first 60000 images into a training set, and the last 10000 images as a test set."
   ]
  },
  {
   "cell_type": "code",
   "execution_count": null,
   "metadata": {
    "colab": {},
    "colab_type": "code",
    "id": "AtvNaJVEB82P"
   },
   "outputs": [],
   "source": [
    "y = y.astype(np.uint8)\n",
    "X_train, X_test, y_train, y_test = X[:60000], X[60000:], y[:60000], y[60000:]\n",
    "#shuffle_index = np.random.permutation(60000)\n",
    "#X_train, y_train = X_train[shuffle_index], y_train[shuffle_index]"
   ]
  },
  {
   "cell_type": "markdown",
   "metadata": {
    "colab_type": "text",
    "id": "ki1MI_EbB82S"
   },
   "source": [
    "# Binary classifier"
   ]
  },
  {
   "cell_type": "markdown",
   "metadata": {
    "colab_type": "text",
    "id": "C0VCtuUFJRFd"
   },
   "source": [
    "**Question 1**\n",
    "\n",
    "Creates a binary classifier capable of distinguishing between just two classes, 5 and not-5.  \n",
    "\n",
    "\n",
    "*   Creates the target vectors for this classification task\n",
    "*   Use Logistic Regression and trainit on the whole training set.  \n",
    "*   Predict the outcome of images of the number 5\n",
    "\n"
   ]
  },
  {
   "cell_type": "code",
   "execution_count": null,
   "metadata": {
    "colab": {},
    "colab_type": "code",
    "id": "O9hyB1BGB82T"
   },
   "outputs": [],
   "source": [
    "y_train_5 = (y_train == 5)\n",
    "y_test_5 = (y_test == 5)"
   ]
  },
  {
   "cell_type": "code",
   "execution_count": 12,
   "metadata": {
    "colab": {
     "base_uri": "https://localhost:8080/",
     "height": 52
    },
    "colab_type": "code",
    "id": "BnF4EWCm1-vk",
    "outputId": "6119653c-687b-4dc9-ccb5-9e11210e29bc"
   },
   "outputs": [
    {
     "name": "stdout",
     "output_type": "stream",
     "text": [
      "[ True False False False False False False False False False False  True\n",
      " False False False False False False False False]\n"
     ]
    }
   ],
   "source": [
    "print(y_train_5[:20])\n"
   ]
  },
  {
   "cell_type": "code",
   "execution_count": 78,
   "metadata": {
    "colab": {
     "base_uri": "https://localhost:8080/",
     "height": 121
    },
    "colab_type": "code",
    "id": "bEA7b9G0B82W",
    "outputId": "0c8cfefb-a40f-45d2-931e-0f759642b178"
   },
   "outputs": [
    {
     "data": {
      "text/plain": [
       "SGDClassifier(alpha=0.0001, average=False, class_weight=None,\n",
       "              early_stopping=False, epsilon=0.1, eta0=0.0, fit_intercept=True,\n",
       "              l1_ratio=0.15, learning_rate='optimal', loss='hinge', max_iter=5,\n",
       "              n_iter_no_change=5, n_jobs=None, penalty='l2', power_t=0.5,\n",
       "              random_state=42, shuffle=True, tol=-inf, validation_fraction=0.1,\n",
       "              verbose=0, warm_start=False)"
      ]
     },
     "execution_count": 78,
     "metadata": {
      "tags": []
     },
     "output_type": "execute_result"
    }
   ],
   "source": [
    "from sklearn.linear_model import LogisticRegression\n",
    "from sklearn.linear_model import SGDClassifier\n",
    "\n",
    "sgd_clf = SGDClassifier(random_state=42)\n",
    "sgd_clf.fit(X_train, y_train_5)"
   ]
  },
  {
   "cell_type": "code",
   "execution_count": 14,
   "metadata": {
    "colab": {
     "base_uri": "https://localhost:8080/",
     "height": 35
    },
    "colab_type": "code",
    "id": "Ysm6wB57B82Y",
    "outputId": "ac3dc613-de97-4b2a-c9db-18ba42e673bd"
   },
   "outputs": [
    {
     "data": {
      "text/plain": [
       "array([ True])"
      ]
     },
     "execution_count": 14,
     "metadata": {
      "tags": []
     },
     "output_type": "execute_result"
    }
   ],
   "source": [
    "sgd_clf.predict([some_digit])"
   ]
  },
  {
   "cell_type": "markdown",
   "metadata": {
    "colab_type": "text",
    "id": "og2sJ4NWHWrc"
   },
   "source": [
    "## Measuring Accuracy using Cross-Validation\n"
   ]
  },
  {
   "cell_type": "markdown",
   "metadata": {
    "colab_type": "text",
    "id": "hQae1eJ7H23i"
   },
   "source": [
    "**Question 2**\n",
    "\n",
    "Evaluate the model using cross-validation with the cross_val_score() function, with 3 folds.  "
   ]
  },
  {
   "cell_type": "code",
   "execution_count": 79,
   "metadata": {
    "colab": {
     "base_uri": "https://localhost:8080/",
     "height": 35
    },
    "colab_type": "code",
    "id": "HYv1hPCXB82b",
    "outputId": "4ad407a5-ef69-47fa-aab9-fe5fc596c485"
   },
   "outputs": [
    {
     "data": {
      "text/plain": [
       "array([0.9633 , 0.95695, 0.9146 ])"
      ]
     },
     "execution_count": 79,
     "metadata": {
      "tags": []
     },
     "output_type": "execute_result"
    }
   ],
   "source": [
    "from sklearn.model_selection import cross_val_score\n",
    "cross_val_score(sgd_clf, X_train, y_train_5, cv=3, scoring=\"accuracy\")"
   ]
  },
  {
   "cell_type": "code",
   "execution_count": null,
   "metadata": {
    "colab": {},
    "colab_type": "code",
    "id": "EL1ekIFS5zWY"
   },
   "outputs": [],
   "source": []
  },
  {
   "cell_type": "markdown",
   "metadata": {
    "colab_type": "text",
    "id": "v1N-vEQLLf07"
   },
   "source": [
    "## Confusion Matrix\n",
    "\n",
    "**Question 3**\n",
    "\n",
    "A much better way to evaluate the performance of a classifier is to look at the confusion matrix.  \n",
    "\n",
    "\n",
    "*   Generate a set of predictions on the test set\n",
    "*   Compute the confusion matrix using the confusion_matrix() function\n",
    "\n"
   ]
  },
  {
   "cell_type": "code",
   "execution_count": null,
   "metadata": {
    "colab": {},
    "colab_type": "code",
    "id": "AIsG4HJvB82l"
   },
   "outputs": [],
   "source": [
    "from sklearn.model_selection import cross_val_predict\n",
    "\n",
    "y_train_pred = cross_val_predict(sgd_clf, X_train, y_train_5, cv=3)"
   ]
  },
  {
   "cell_type": "code",
   "execution_count": 81,
   "metadata": {
    "colab": {
     "base_uri": "https://localhost:8080/",
     "height": 35
    },
    "colab_type": "code",
    "id": "g_ivzRzL51CI",
    "outputId": "408a35a5-fd9b-4451-ad29-b9fc80f47106"
   },
   "outputs": [
    {
     "data": {
      "text/plain": [
       "(60000,)"
      ]
     },
     "execution_count": 81,
     "metadata": {
      "tags": []
     },
     "output_type": "execute_result"
    }
   ],
   "source": [
    "y_train_pred.shape"
   ]
  },
  {
   "cell_type": "code",
   "execution_count": 82,
   "metadata": {
    "colab": {
     "base_uri": "https://localhost:8080/",
     "height": 52
    },
    "colab_type": "code",
    "id": "_s0_VWbRB82n",
    "outputId": "571626fa-b821-41e4-d22b-2b04757dd08d"
   },
   "outputs": [
    {
     "data": {
      "text/plain": [
       "array([[52336,  2243],\n",
       "       [ 1060,  4361]])"
      ]
     },
     "execution_count": 82,
     "metadata": {
      "tags": []
     },
     "output_type": "execute_result"
    }
   ],
   "source": [
    "from sklearn.metrics import confusion_matrix\n",
    "\n",
    "confusion_matrix(y_train_5, y_train_pred)"
   ]
  },
  {
   "cell_type": "code",
   "execution_count": 83,
   "metadata": {
    "colab": {
     "base_uri": "https://localhost:8080/",
     "height": 35
    },
    "colab_type": "code",
    "id": "PYU5t0w66lWl",
    "outputId": "ee3f5b84-2374-415f-fdb8-958614e79ac1"
   },
   "outputs": [
    {
     "data": {
      "text/plain": [
       "array([False,  True])"
      ]
     },
     "execution_count": 83,
     "metadata": {
      "tags": []
     },
     "output_type": "execute_result"
    }
   ],
   "source": [
    "sgd_clf.classes_"
   ]
  },
  {
   "cell_type": "markdown",
   "metadata": {
    "colab_type": "text",
    "id": "fl49kQe0NCXS"
   },
   "source": [
    "A perfect classifier would have noly true positives and true negatives, so its confusion matrix would have non zero values only on its main diagonal."
   ]
  },
  {
   "cell_type": "code",
   "execution_count": 20,
   "metadata": {
    "colab": {
     "base_uri": "https://localhost:8080/",
     "height": 52
    },
    "colab_type": "code",
    "id": "xAZAsN8jB82p",
    "outputId": "e40a636f-8bee-49c1-e82d-22e79b0a1e21"
   },
   "outputs": [
    {
     "data": {
      "text/plain": [
       "array([[54579,     0],\n",
       "       [    0,  5421]])"
      ]
     },
     "execution_count": 20,
     "metadata": {
      "tags": []
     },
     "output_type": "execute_result"
    }
   ],
   "source": [
    "y_train_perfect_predictions = y_train_5  # pretend we reached perfection\n",
    "confusion_matrix(y_train_5, y_train_perfect_predictions)"
   ]
  },
  {
   "cell_type": "markdown",
   "metadata": {
    "colab_type": "text",
    "id": "P3eFi0FnNhIO"
   },
   "source": [
    "## Precision and Recall\n",
    "\n",
    "**Question 4**\n",
    "\n",
    "Compute the precision, recall and F1 score"
   ]
  },
  {
   "cell_type": "code",
   "execution_count": 87,
   "metadata": {
    "colab": {
     "base_uri": "https://localhost:8080/",
     "height": 35
    },
    "colab_type": "code",
    "id": "aPGew5oZB82s",
    "outputId": "931fba68-6c30-43fe-f143-c0b6310f26a0"
   },
   "outputs": [
    {
     "data": {
      "text/plain": [
       "0.6603573591762568"
      ]
     },
     "execution_count": 87,
     "metadata": {
      "tags": []
     },
     "output_type": "execute_result"
    }
   ],
   "source": [
    "from sklearn.metrics import precision_score, recall_score\n",
    "\n",
    "precision_score(y_train_5, y_train_pred)"
   ]
  },
  {
   "cell_type": "markdown",
   "metadata": {
    "colab_type": "text",
    "id": "8PjLjwlbf47C"
   },
   "source": [
    "Calculate the precision manually using the formula,\n",
    "\n",
    "`precision = TP/(TP+FP)`"
   ]
  },
  {
   "cell_type": "code",
   "execution_count": 22,
   "metadata": {
    "colab": {
     "base_uri": "https://localhost:8080/",
     "height": 35
    },
    "colab_type": "code",
    "id": "QsQP8OxAeaZM",
    "outputId": "6a5e3b5c-c13e-4f14-c514-24b31b8e71c6"
   },
   "outputs": [
    {
     "data": {
      "text/plain": [
       "0.8370879772350012"
      ]
     },
     "execution_count": 22,
     "metadata": {
      "tags": []
     },
     "output_type": "execute_result"
    }
   ],
   "source": [
    "3530 / (3530 + 687 )"
   ]
  },
  {
   "cell_type": "code",
   "execution_count": 88,
   "metadata": {
    "colab": {
     "base_uri": "https://localhost:8080/",
     "height": 35
    },
    "colab_type": "code",
    "id": "2pf2Dg51B82y",
    "outputId": "af4ee668-a31d-4dd1-91a4-a914810f6d02"
   },
   "outputs": [
    {
     "data": {
      "text/plain": [
       "0.8044641210108836"
      ]
     },
     "execution_count": 88,
     "metadata": {
      "tags": []
     },
     "output_type": "execute_result"
    }
   ],
   "source": [
    "recall_score(y_train_5, y_train_pred)"
   ]
  },
  {
   "cell_type": "markdown",
   "metadata": {
    "colab_type": "text",
    "id": "yddTvxNNgF0e"
   },
   "source": [
    "Calculate the recall manually using the formula,\n",
    "\n",
    "`recall = TP/(TP+FN)`"
   ]
  },
  {
   "cell_type": "code",
   "execution_count": 85,
   "metadata": {
    "colab": {
     "base_uri": "https://localhost:8080/",
     "height": 35
    },
    "colab_type": "code",
    "id": "RUeHTbY8ecUI",
    "outputId": "e92c0f0b-87e4-4cb4-f4ec-24a638543cb4"
   },
   "outputs": [
    {
     "data": {
      "text/plain": [
       "0.6511713705958311"
      ]
     },
     "execution_count": 85,
     "metadata": {
      "tags": []
     },
     "output_type": "execute_result"
    }
   ],
   "source": [
    "3530 / (3530 + 1891)"
   ]
  },
  {
   "cell_type": "code",
   "execution_count": 89,
   "metadata": {
    "colab": {
     "base_uri": "https://localhost:8080/",
     "height": 35
    },
    "colab_type": "code",
    "id": "51n5f-ohB823",
    "outputId": "ac8df911-4efe-41ec-8be5-4f92b52075f0"
   },
   "outputs": [
    {
     "data": {
      "text/plain": [
       "0.7253222453222454"
      ]
     },
     "execution_count": 89,
     "metadata": {
      "tags": []
     },
     "output_type": "execute_result"
    }
   ],
   "source": [
    "from sklearn.metrics import f1_score\n",
    "\n",
    "f1_score(y_train_5, y_train_pred)"
   ]
  },
  {
   "cell_type": "markdown",
   "metadata": {
    "colab_type": "text",
    "id": "bOKVJoOHpdPV"
   },
   "source": [
    "Calculate the F1 score manually using the formula\n",
    "\n",
    "`F1 = 2*precision*recall/(precision + recall)`"
   ]
  },
  {
   "cell_type": "code",
   "execution_count": 27,
   "metadata": {
    "colab": {
     "base_uri": "https://localhost:8080/",
     "height": 35
    },
    "colab_type": "code",
    "id": "tGrbjp5KB825",
    "outputId": "edd449be-39b9-43e0-8432-fbeb4bbbfec1"
   },
   "outputs": [
    {
     "data": {
      "text/plain": [
       "0.7325171197343846"
      ]
     },
     "execution_count": 27,
     "metadata": {
      "tags": []
     },
     "output_type": "execute_result"
    }
   ],
   "source": [
    "2*(0.8370879772350012 *0.6511713705958311)/(0.8370879772350012 + 0.6511713705958311)"
   ]
  },
  {
   "cell_type": "markdown",
   "metadata": {
    "colab_type": "text",
    "id": "Wt3c3e2GqKbF"
   },
   "source": [
    "## Precision and recall tradeoff\n",
    "\n",
    "Use the decision_function() method to compute the scores.   With a higher threshold, it decreases the recall.  To decide which threshold to use, get the scores of all instances in the training set using the cross_val_predict() function to return decision scores instead of predictions."
   ]
  },
  {
   "cell_type": "code",
   "execution_count": 28,
   "metadata": {
    "colab": {
     "base_uri": "https://localhost:8080/",
     "height": 35
    },
    "colab_type": "code",
    "id": "Lk7wPC5gB828",
    "outputId": "f2a906e5-a0fc-441d-ddd6-0d17f1d776e3"
   },
   "outputs": [
    {
     "data": {
      "text/plain": [
       "array([2164.22030239])"
      ]
     },
     "execution_count": 28,
     "metadata": {
      "tags": []
     },
     "output_type": "execute_result"
    }
   ],
   "source": [
    "y_scores = sgd_clf.decision_function([some_digit])\n",
    "y_scores"
   ]
  },
  {
   "cell_type": "markdown",
   "metadata": {
    "colab_type": "text",
    "id": "247XTW-VT2s2"
   },
   "source": [
    "With threshold = 0, the prediction is correct."
   ]
  },
  {
   "cell_type": "code",
   "execution_count": 29,
   "metadata": {
    "colab": {
     "base_uri": "https://localhost:8080/",
     "height": 35
    },
    "colab_type": "code",
    "id": "1uGbDVN7B82_",
    "outputId": "80643c5c-0e15-4836-ef6a-ffb5d61c466f"
   },
   "outputs": [
    {
     "data": {
      "text/plain": [
       "array([ True])"
      ]
     },
     "execution_count": 29,
     "metadata": {
      "tags": []
     },
     "output_type": "execute_result"
    }
   ],
   "source": [
    "threshold = 0\n",
    "y_some_digit_pred = (y_scores > threshold)\n",
    "y_some_digit_pred"
   ]
  },
  {
   "cell_type": "markdown",
   "metadata": {
    "colab_type": "text",
    "id": "FnFq_IupT9xp"
   },
   "source": [
    "With threshold = 8000, prediction is wrong."
   ]
  },
  {
   "cell_type": "code",
   "execution_count": 30,
   "metadata": {
    "colab": {
     "base_uri": "https://localhost:8080/",
     "height": 35
    },
    "colab_type": "code",
    "id": "t_nQQ48UB83G",
    "outputId": "683ed58f-ecb3-434b-b4bc-3ea5f61304f3"
   },
   "outputs": [
    {
     "data": {
      "text/plain": [
       "array([False])"
      ]
     },
     "execution_count": 30,
     "metadata": {
      "tags": []
     },
     "output_type": "execute_result"
    }
   ],
   "source": [
    "threshold = 8000\n",
    "y_some_digit_pred = (y_scores > threshold)\n",
    "y_some_digit_pred"
   ]
  },
  {
   "cell_type": "markdown",
   "metadata": {
    "colab_type": "text",
    "id": "JNuRTKNbUFTF"
   },
   "source": [
    "Perform cross validation to get the scores for all instances."
   ]
  },
  {
   "cell_type": "code",
   "execution_count": null,
   "metadata": {
    "colab": {},
    "colab_type": "code",
    "id": "gYak-Q24B83I"
   },
   "outputs": [],
   "source": [
    "y_scores = cross_val_predict(sgd_clf, X_train, y_train_5, cv=3,\n",
    "                             method=\"decision_function\")"
   ]
  },
  {
   "cell_type": "code",
   "execution_count": null,
   "metadata": {
    "colab": {},
    "colab_type": "code",
    "id": "4G33WJibRsb6"
   },
   "outputs": [],
   "source": [
    "y_mask = (y_scores > 5000).sum()"
   ]
  },
  {
   "cell_type": "code",
   "execution_count": 73,
   "metadata": {
    "colab": {
     "base_uri": "https://localhost:8080/",
     "height": 35
    },
    "colab_type": "code",
    "id": "xTnTg9OZbx0b",
    "outputId": "3e947ea1-9485-4dd6-aff3-3e30a5613523"
   },
   "outputs": [
    {
     "data": {
      "text/plain": [
       "2393"
      ]
     },
     "execution_count": 73,
     "metadata": {
      "tags": []
     },
     "output_type": "execute_result"
    }
   ],
   "source": [
    "y_mask"
   ]
  },
  {
   "cell_type": "markdown",
   "metadata": {
    "colab_type": "text",
    "id": "bBILPUtFUL1j"
   },
   "source": [
    "Compute precision and recall for all possible thresholds using the precision_recall_curve function."
   ]
  },
  {
   "cell_type": "code",
   "execution_count": null,
   "metadata": {
    "colab": {},
    "colab_type": "code",
    "id": "lHkO1oNeB83L"
   },
   "outputs": [],
   "source": [
    "from sklearn.metrics import precision_recall_curve\n",
    "\n",
    "precisions, recalls, thresholds = precision_recall_curve(y_train_5, y_scores)"
   ]
  },
  {
   "cell_type": "code",
   "execution_count": 56,
   "metadata": {
    "colab": {
     "base_uri": "https://localhost:8080/",
     "height": 104
    },
    "colab_type": "code",
    "id": "5eFmVaZDR5Er",
    "outputId": "09099fbc-c019-401f-8d81-e7089e5bad2c"
   },
   "outputs": [
    {
     "data": {
      "text/plain": [
       "array([30919.23988721, 31131.71083025, 31196.62975125, 31491.56779645,\n",
       "       31839.58732479, 31847.88726914, 32149.32407536, 32447.6679598 ,\n",
       "       33498.67560166, 33976.83062516, 34530.18696047, 34547.44702864,\n",
       "       34662.20950045, 35261.17927701, 35987.20307515, 36801.60697028,\n",
       "       37026.25116503, 38871.26391927, 42216.05562787, 49441.43765905])"
      ]
     },
     "execution_count": 56,
     "metadata": {
      "tags": []
     },
     "output_type": "execute_result"
    }
   ],
   "source": [
    "thresholds[-20:]"
   ]
  },
  {
   "cell_type": "code",
   "execution_count": 57,
   "metadata": {
    "colab": {
     "base_uri": "https://localhost:8080/",
     "height": 87
    },
    "colab_type": "code",
    "id": "RCnysBe_ZCMg",
    "outputId": "5533e4d5-7cf4-4898-d14b-dab4ef40f5a8"
   },
   "outputs": [
    {
     "data": {
      "text/plain": [
       "array([0.84210526, 0.83333333, 0.82352941, 0.8125    , 0.86666667,\n",
       "       0.85714286, 0.84615385, 0.83333333, 0.81818182, 0.8       ,\n",
       "       0.77777778, 0.875     , 0.85714286, 0.83333333, 1.        ,\n",
       "       1.        , 1.        , 1.        , 1.        , 1.        ])"
      ]
     },
     "execution_count": 57,
     "metadata": {
      "tags": []
     },
     "output_type": "execute_result"
    }
   ],
   "source": [
    "precisions[-20:]"
   ]
  },
  {
   "cell_type": "code",
   "execution_count": 92,
   "metadata": {
    "colab": {
     "base_uri": "https://localhost:8080/",
     "height": 289
    },
    "colab_type": "code",
    "id": "azObPxIkB83O",
    "outputId": "4eba267d-fe34-453c-905e-f8b1cf1b412c"
   },
   "outputs": [
    {
     "data": {
      "image/png": "[encoded data removed]",
      "text/plain": [
       "<Figure size 576x288 with 1 Axes>"
      ]
     },
     "metadata": {
      "tags": []
     },
     "output_type": "display_data"
    }
   ],
   "source": [
    "def plot_precision_recall_vs_threshold(precisions, recalls, thresholds):\n",
    "    plt.plot(thresholds, precisions[:-1], \"b--\", label=\"Precision\", linewidth=2)\n",
    "    plt.plot(thresholds, recalls[:-1], \"g-\", label=\"Recall\", linewidth=2)\n",
    "    plt.legend(loc=\"center right\", fontsize=16) \n",
    "    plt.xlabel(\"Threshold\", fontsize=16)        \n",
    "    plt.grid(True)                              \n",
    "    \n",
    "plt.figure(figsize=(8, 4))      \n",
    "plot_precision_recall_vs_threshold(precisions, recalls, thresholds)\n",
    "plt.xlim([-700000, 700000])           \n",
    "plt.show()"
   ]
  },
  {
   "cell_type": "code",
   "execution_count": 107,
   "metadata": {
    "colab": {
     "base_uri": "https://localhost:8080/",
     "height": 35
    },
    "colab_type": "code",
    "id": "6N_SgDKvggz5",
    "outputId": "95c192fa-2e01-4541-a9d3-7974e2a14643"
   },
   "outputs": [
    {
     "data": {
      "text/plain": [
       "(6604,)"
      ]
     },
     "execution_count": 107,
     "metadata": {
      "tags": []
     },
     "output_type": "execute_result"
    }
   ],
   "source": [
    "y_train_pred[y_scores > 0].shape"
   ]
  },
  {
   "cell_type": "code",
   "execution_count": 93,
   "metadata": {
    "colab": {
     "base_uri": "https://localhost:8080/",
     "height": 35
    },
    "colab_type": "code",
    "id": "YfZlPm4qB83T",
    "outputId": "f8d89d0c-10c2-44bb-af30-d7c70a0ab680"
   },
   "outputs": [
    {
     "data": {
      "text/plain": [
       "True"
      ]
     },
     "execution_count": 93,
     "metadata": {
      "tags": []
     },
     "output_type": "execute_result"
    }
   ],
   "source": [
    "(y_train_pred == (y_scores > 0)).all()"
   ]
  },
  {
   "cell_type": "code",
   "execution_count": 94,
   "metadata": {
    "colab": {
     "base_uri": "https://localhost:8080/",
     "height": 397
    },
    "colab_type": "code",
    "id": "e6FpiXz4B83X",
    "outputId": "96ac3d98-0851-424b-cf23-1d83b4663f3b"
   },
   "outputs": [
    {
     "data": {
      "image/png": "[encoded data removed]",
      "text/plain": [
       "<Figure size 576x432 with 1 Axes>"
      ]
     },
     "metadata": {
      "tags": []
     },
     "output_type": "display_data"
    }
   ],
   "source": [
    "def plot_precision_vs_recall(precisions, recalls):\n",
    "    plt.plot(recalls, precisions, \"b-\", linewidth=2)\n",
    "    plt.xlabel(\"Recall\", fontsize=16)\n",
    "    plt.ylabel(\"Precision\", fontsize=16)\n",
    "    plt.axis([0, 1, 0, 1])\n",
    "    plt.grid(True)\n",
    "\n",
    "plt.figure(figsize=(8, 6))\n",
    "plot_precision_vs_recall(precisions, recalls)\n",
    "plt.show()"
   ]
  },
  {
   "cell_type": "markdown",
   "metadata": {
    "colab_type": "text",
    "id": "R7AaLbqHUng3"
   },
   "source": [
    "We want to aim for 90% precision, compute the threshold value."
   ]
  },
  {
   "cell_type": "code",
   "execution_count": 109,
   "metadata": {
    "colab": {
     "base_uri": "https://localhost:8080/",
     "height": 35
    },
    "colab_type": "code",
    "id": "4Y1-4NknB83c",
    "outputId": "04ceb304-e7dd-4428-a247-287c972c98cb"
   },
   "outputs": [
    {
     "data": {
      "text/plain": [
       "163633.30315197556"
      ]
     },
     "execution_count": 109,
     "metadata": {
      "tags": []
     },
     "output_type": "execute_result"
    }
   ],
   "source": [
    "threshold_90_precision = thresholds[np.argmax(precisions >= 0.90)]\n",
    "threshold_90_precision"
   ]
  },
  {
   "cell_type": "code",
   "execution_count": null,
   "metadata": {
    "colab": {},
    "colab_type": "code",
    "id": "T69AzgsLB83i"
   },
   "outputs": [],
   "source": [
    "y_train_pred_90 = (y_scores >= threshold_90_precision)"
   ]
  },
  {
   "cell_type": "code",
   "execution_count": 120,
   "metadata": {
    "colab": {
     "base_uri": "https://localhost:8080/",
     "height": 35
    },
    "colab_type": "code",
    "id": "myRra1GOliMz",
    "outputId": "94066f81-a677-4fd8-b507-bcd6b5a512b6"
   },
   "outputs": [
    {
     "data": {
      "text/plain": [
       "array([False, False, False, ...,  True, False, False])"
      ]
     },
     "execution_count": 120,
     "metadata": {
      "tags": []
     },
     "output_type": "execute_result"
    }
   ],
   "source": [
    "y_train_pred_90"
   ]
  },
  {
   "cell_type": "markdown",
   "metadata": {
    "colab_type": "text",
    "id": "7-44nclYVJQa"
   },
   "source": [
    "Compute the precision and recall score"
   ]
  },
  {
   "cell_type": "code",
   "execution_count": 121,
   "metadata": {
    "colab": {
     "base_uri": "https://localhost:8080/",
     "height": 35
    },
    "colab_type": "code",
    "id": "xSwNkEYiB83k",
    "outputId": "f6357d5a-8d85-4a07-def3-8d387c7a6a72"
   },
   "outputs": [
    {
     "data": {
      "text/plain": [
       "0.9002517306482064"
      ]
     },
     "execution_count": 121,
     "metadata": {
      "tags": []
     },
     "output_type": "execute_result"
    }
   ],
   "source": [
    "precision_score(y_train_5, y_train_pred_90)"
   ]
  },
  {
   "cell_type": "code",
   "execution_count": 122,
   "metadata": {
    "colab": {
     "base_uri": "https://localhost:8080/",
     "height": 35
    },
    "colab_type": "code",
    "id": "8c1kabSUB83n",
    "outputId": "fe871578-3625-4959-d884-f4c7fb3349e5"
   },
   "outputs": [
    {
     "data": {
      "text/plain": [
       "0.5277624054602472"
      ]
     },
     "execution_count": 122,
     "metadata": {
      "tags": []
     },
     "output_type": "execute_result"
    }
   ],
   "source": [
    "recall_score(y_train_5, y_train_pred_90)"
   ]
  },
  {
   "cell_type": "markdown",
   "metadata": {
    "colab_type": "text",
    "id": "eQNRFi0psX4-"
   },
   "source": [
    "# ROC Curves"
   ]
  },
  {
   "cell_type": "markdown",
   "metadata": {
    "colab_type": "text",
    "id": "NBOH7i-AVVls"
   },
   "source": [
    "The receiver operation characteristic (ROC) curve is another common tool used with binary classifiers.  It is similar to the precision/recall curve, but it plots the true positive rate (recall) against the false positive rate.  "
   ]
  },
  {
   "cell_type": "markdown",
   "metadata": {
    "colab_type": "text",
    "id": "vFMPnJ8gVou3"
   },
   "source": [
    "**Question 5**\n",
    "\n",
    "Compute the True positive rate (TPR), False positive rate (FPR) for various thresholds using the roc_curve() function."
   ]
  },
  {
   "cell_type": "code",
   "execution_count": null,
   "metadata": {
    "colab": {},
    "colab_type": "code",
    "id": "gl2oIIJwsrZU"
   },
   "outputs": [],
   "source": [
    "from sklearn.metrics import roc_curve\n",
    "\n",
    "fpr, tpr, thresholds = roc_curve(y_train_5, y_scores)"
   ]
  },
  {
   "cell_type": "code",
   "execution_count": 125,
   "metadata": {
    "colab": {
     "base_uri": "https://localhost:8080/",
     "height": 397
    },
    "colab_type": "code",
    "id": "XRx8OqyRssRt",
    "outputId": "0c94da6a-81ce-4ed3-873c-b568347b209d"
   },
   "outputs": [
    {
     "data": {
      "image/png": "[encoded data removed]",
      "text/plain": [
       "<Figure size 576x432 with 1 Axes>"
      ]
     },
     "metadata": {
      "tags": []
     },
     "output_type": "display_data"
    }
   ],
   "source": [
    "def plot_roc_curve(fpr, tpr, label=None):\n",
    "    plt.plot(fpr, tpr, linewidth=2, label=label)\n",
    "    plt.plot([0, 1], [0, 1], 'k--') # dashed diagonal\n",
    "    plt.axis([0, 1, 0, 1])                                    \n",
    "    plt.xlabel('False Positive Rate (Fall-Out)', fontsize=16) \n",
    "    plt.ylabel('True Positive Rate (Recall)', fontsize=16)    \n",
    "    plt.grid(True)                                            \n",
    "\n",
    "plt.figure(figsize=(8, 6))                        \n",
    "plot_roc_curve(fpr, tpr)\n",
    "             \n",
    "plt.show()"
   ]
  },
  {
   "cell_type": "markdown",
   "metadata": {
    "colab_type": "text",
    "id": "9CZ_n_oGWTmn"
   },
   "source": [
    "The higher the recall (TPR), the more false positives (FPR) the classifier produces.  The dotted line represents the ROC curve of a purely random classifier, a good classfier stays as far away from the line as possible.\n",
    "\n",
    "**Quesiton 6**\n",
    "\n",
    "Compute the area under the curve (AUC).  "
   ]
  },
  {
   "cell_type": "code",
   "execution_count": 126,
   "metadata": {
    "colab": {
     "base_uri": "https://localhost:8080/",
     "height": 35
    },
    "colab_type": "code",
    "id": "I71PFhdwsy3n",
    "outputId": "11a2b3be-4f8d-4755-b21a-9b54a3c7f352"
   },
   "outputs": [
    {
     "data": {
      "text/plain": [
       "0.9536789698168869"
      ]
     },
     "execution_count": 126,
     "metadata": {
      "tags": []
     },
     "output_type": "execute_result"
    }
   ],
   "source": [
    "from sklearn.metrics import roc_auc_score\n",
    "\n",
    "roc_auc_score(y_train_5, y_scores)"
   ]
  },
  {
   "cell_type": "markdown",
   "metadata": {
    "colab_type": "text",
    "id": "1K1uPeXrB837"
   },
   "source": [
    "# Multiclass classification"
   ]
  },
  {
   "cell_type": "markdown",
   "metadata": {
    "colab_type": "text",
    "id": "L7SaIkTTXM7Q"
   },
   "source": [
    "Multiclass classifiers distinguish between more than two classess.  Scikit-learn detects when you try to use a binary classification alogorithm for a multiple class classification task and it automatically runs one-versus-all (OvA)\n",
    "\n",
    "**Question 7**\n",
    "\n",
    "Use Linear Regression to train the original target classes from 0 to 9 and make a prediction of the first digit."
   ]
  },
  {
   "cell_type": "code",
   "execution_count": null,
   "metadata": {
    "colab": {},
    "colab_type": "code",
    "id": "hFp4PXurB838"
   },
   "outputs": [],
   "source": [
    "sgd_clf = SGDClassifier(random_state=42)\n",
    "sgd_clf.fit(X_train, y_train) # y_train, not y_train_5\n",
    "predict = sgd_clf.predict([some_digit])"
   ]
  },
  {
   "cell_type": "code",
   "execution_count": 130,
   "metadata": {
    "colab": {
     "base_uri": "https://localhost:8080/",
     "height": 35
    },
    "colab_type": "code",
    "id": "zHmjQFgCmd74",
    "outputId": "8c871b94-aefa-4f86-9a43-3e02886dc9f5"
   },
   "outputs": [
    {
     "name": "stdout",
     "output_type": "stream",
     "text": [
      "[3]\n"
     ]
    }
   ],
   "source": [
    "print(predict)"
   ]
  },
  {
   "cell_type": "markdown",
   "metadata": {
    "colab_type": "text",
    "id": "yMFdDeHqYZ81"
   },
   "source": [
    "Under the hood, Scikit-Learn actually trained 10 binary classifiers, got their decision scores for the image and selected the class with the highest score.  \n",
    "\n",
    "**Question 8**\n",
    "\n",
    "Conpute the scores using the decision_function() method to return 10 scores, one per class."
   ]
  },
  {
   "cell_type": "code",
   "execution_count": 131,
   "metadata": {
    "colab": {
     "base_uri": "https://localhost:8080/",
     "height": 87
    },
    "colab_type": "code",
    "id": "cpNVjIuLB84A",
    "outputId": "4a57e677-b1e3-4a18-8bcf-d387b645a7c0"
   },
   "outputs": [
    {
     "data": {
      "text/plain": [
       "array([[-473897.80801197, -644255.86485802, -347352.99430408,\n",
       "         -30942.4528106 , -560971.15600433,  -42695.14872161,\n",
       "        -495355.44702264, -327659.64997194, -485909.1798798 ,\n",
       "        -495629.95766748]])"
      ]
     },
     "execution_count": 131,
     "metadata": {
      "tags": []
     },
     "output_type": "execute_result"
    }
   ],
   "source": [
    "some_digit_scores = sgd_clf.decision_function([some_digit])\n",
    "some_digit_scores"
   ]
  },
  {
   "cell_type": "markdown",
   "metadata": {
    "colab_type": "text",
    "id": "FNlx7EgOZFN7"
   },
   "source": [
    "The highest score is the one corresponding to the correct class."
   ]
  },
  {
   "cell_type": "code",
   "execution_count": 132,
   "metadata": {
    "colab": {
     "base_uri": "https://localhost:8080/",
     "height": 35
    },
    "colab_type": "code",
    "id": "Y4SuHkxLB84C",
    "outputId": "368bfec9-2766-46bc-d9c6-6ea00272364f"
   },
   "outputs": [
    {
     "data": {
      "text/plain": [
       "3"
      ]
     },
     "execution_count": 132,
     "metadata": {
      "tags": []
     },
     "output_type": "execute_result"
    }
   ],
   "source": [
    "np.argmax(some_digit_scores)"
   ]
  },
  {
   "cell_type": "code",
   "execution_count": 134,
   "metadata": {
    "colab": {
     "base_uri": "https://localhost:8080/",
     "height": 35
    },
    "colab_type": "code",
    "id": "XlPa3cdPB84E",
    "outputId": "633311bb-bfed-4dcd-96cb-944647da5d9e"
   },
   "outputs": [
    {
     "data": {
      "text/plain": [
       "array([0, 1, 2, 3, 4, 5, 6, 7, 8, 9], dtype=uint8)"
      ]
     },
     "execution_count": 134,
     "metadata": {
      "tags": []
     },
     "output_type": "execute_result"
    }
   ],
   "source": [
    "sgd_clf.classes_"
   ]
  },
  {
   "cell_type": "code",
   "execution_count": 135,
   "metadata": {
    "colab": {
     "base_uri": "https://localhost:8080/",
     "height": 35
    },
    "colab_type": "code",
    "id": "uHyu9tcxB84G",
    "outputId": "d9528b6e-cad1-4075-92f3-5d234a53749f"
   },
   "outputs": [
    {
     "data": {
      "text/plain": [
       "5"
      ]
     },
     "execution_count": 135,
     "metadata": {
      "tags": []
     },
     "output_type": "execute_result"
    }
   ],
   "source": [
    "sgd_clf.classes_[5]"
   ]
  },
  {
   "cell_type": "markdown",
   "metadata": {
    "colab_type": "text",
    "id": "CT8jOWl6ZSPt"
   },
   "source": [
    "**Question 9**\n",
    "\n",
    "Use OvO strategy to train and predict the digit."
   ]
  },
  {
   "cell_type": "code",
   "execution_count": 136,
   "metadata": {
    "colab": {
     "base_uri": "https://localhost:8080/",
     "height": 35
    },
    "colab_type": "code",
    "id": "YQx-BDlLB84I",
    "outputId": "726d5119-9f03-4245-c41b-553d6ffa10d2"
   },
   "outputs": [
    {
     "data": {
      "text/plain": [
       "array([5], dtype=uint8)"
      ]
     },
     "execution_count": 136,
     "metadata": {
      "tags": []
     },
     "output_type": "execute_result"
    }
   ],
   "source": [
    "from sklearn.multiclass import OneVsOneClassifier\n",
    "ovo_clf = OneVsOneClassifier(SGDClassifier(max_iter=1000, tol=1e-3, random_state=42))\n",
    "ovo_clf.fit(X_train, y_train)\n",
    "ovo_clf.predict([some_digit])"
   ]
  },
  {
   "cell_type": "code",
   "execution_count": 137,
   "metadata": {
    "colab": {
     "base_uri": "https://localhost:8080/",
     "height": 35
    },
    "colab_type": "code",
    "id": "YeAQuik5B84M",
    "outputId": "22571297-9dea-4de7-d514-60d7b27608a6"
   },
   "outputs": [
    {
     "data": {
      "text/plain": [
       "45"
      ]
     },
     "execution_count": 137,
     "metadata": {
      "tags": []
     },
     "output_type": "execute_result"
    }
   ],
   "source": [
    "len(ovo_clf.estimators_)"
   ]
  },
  {
   "cell_type": "markdown",
   "metadata": {
    "colab_type": "text",
    "id": "ZkNaCi4uZqbr"
   },
   "source": [
    "**Question 10**\n",
    "\n",
    "Use cross_val_score to evaluate the classifier"
   ]
  },
  {
   "cell_type": "code",
   "execution_count": 138,
   "metadata": {
    "colab": {
     "base_uri": "https://localhost:8080/",
     "height": 35
    },
    "colab_type": "code",
    "id": "S9IlBdvZB84V",
    "outputId": "d195d338-f0df-4022-eb97-0fb6cfcc9147"
   },
   "outputs": [
    {
     "data": {
      "text/plain": [
       "array([0.86682663, 0.80704035, 0.87778167])"
      ]
     },
     "execution_count": 138,
     "metadata": {
      "tags": []
     },
     "output_type": "execute_result"
    }
   ],
   "source": [
    "cross_val_score(sgd_clf, X_train, y_train, cv=3, scoring=\"accuracy\")"
   ]
  },
  {
   "cell_type": "markdown",
   "metadata": {
    "colab_type": "text",
    "id": "YSfDY8tSZ9ah"
   },
   "source": [
    "**Question 11**\n",
    "\n",
    "Use Standard Scalar to scale to improve the accuracy of the classifier"
   ]
  },
  {
   "cell_type": "code",
   "execution_count": 139,
   "metadata": {
    "colab": {
     "base_uri": "https://localhost:8080/",
     "height": 35
    },
    "colab_type": "code",
    "id": "simOnijpB84Y",
    "outputId": "0b546430-a730-4589-8893-9c490ea08094"
   },
   "outputs": [
    {
     "data": {
      "text/plain": [
       "array([0.90461908, 0.90654533, 0.91273691])"
      ]
     },
     "execution_count": 139,
     "metadata": {
      "tags": []
     },
     "output_type": "execute_result"
    }
   ],
   "source": [
    "from sklearn.preprocessing import StandardScaler\n",
    "scaler = StandardScaler()\n",
    "X_train_scaled = scaler.fit_transform(X_train.astype(np.float64))\n",
    "cross_val_score(sgd_clf, X_train_scaled, y_train, cv=3, scoring=\"accuracy\")"
   ]
  },
  {
   "cell_type": "markdown",
   "metadata": {
    "colab_type": "text",
    "id": "X4JJ4J2mabyg"
   },
   "source": [
    "**Question 12**\n",
    "\n",
    "Compute the confusion matrix of the classifier."
   ]
  },
  {
   "cell_type": "code",
   "execution_count": 140,
   "metadata": {
    "colab": {
     "base_uri": "https://localhost:8080/",
     "height": 191
    },
    "colab_type": "code",
    "id": "w-6kiojKB84b",
    "outputId": "d3cfeaff-5393-4d12-c350-2c03576f8e6b"
   },
   "outputs": [
    {
     "data": {
      "text/plain": [
       "array([[5717,    2,   28,   11,   10,   43,   55,    8,   46,    3],\n",
       "       [   1, 6462,   42,   27,    6,   38,    9,    9,  136,   12],\n",
       "       [  57,   38, 5315,   94,   89,   30,  112,   53,  154,   16],\n",
       "       [  46,   45,  139, 5326,    4,  237,   42,   61,  133,   98],\n",
       "       [  18,   21,   36,    9, 5360,    8,   56,   30,   94,  210],\n",
       "       [  80,   39,   37,  180,   85, 4594,  114,   26,  168,   98],\n",
       "       [  30,   24,   39,    2,   40,   97, 5635,    4,   47,    0],\n",
       "       [  25,   26,   67,   30,   58,   10,    4, 5792,   19,  234],\n",
       "       [  52,  145,   72,  160,   14,  161,   56,   25, 5022,  144],\n",
       "       [  40,   32,   30,   91,  174,   30,    2,  214,   81, 5255]])"
      ]
     },
     "execution_count": 140,
     "metadata": {
      "tags": []
     },
     "output_type": "execute_result"
    }
   ],
   "source": [
    "y_train_pred = cross_val_predict(sgd_clf, X_train_scaled, y_train, cv=3)\n",
    "conf_mx = confusion_matrix(y_train, y_train_pred)\n",
    "conf_mx"
   ]
  },
  {
   "cell_type": "code",
   "execution_count": 142,
   "metadata": {
    "colab": {
     "base_uri": "https://localhost:8080/",
     "height": 293
    },
    "colab_type": "code",
    "id": "sKrkahSCo5UU",
    "outputId": "e611a833-10e9-43a6-ec89-b205058c52c0"
   },
   "outputs": [
    {
     "data": {
      "text/plain": [
       "<matplotlib.image.AxesImage at 0x7febc91884a8>"
      ]
     },
     "execution_count": 142,
     "metadata": {
      "tags": []
     },
     "output_type": "execute_result"
    },
    {
     "data": {
      "image/png": "[encoded data removed]",
      "text/plain": [
       "<Figure size 288x288 with 1 Axes>"
      ]
     },
     "metadata": {
      "tags": []
     },
     "output_type": "display_data"
    }
   ],
   "source": [
    "plt.matshow(conf_mx, cmap=plt.cm.gray)"
   ]
  },
  {
   "cell_type": "code",
   "execution_count": null,
   "metadata": {
    "colab": {},
    "colab_type": "code",
    "id": "rEY4_sOdqXlr"
   },
   "outputs": [],
   "source": [
    "row_sums = conf_mx.sum(axis=1, keepdims=True)\n",
    "norm_conf_mx = conf_mx / row_sums"
   ]
  },
  {
   "cell_type": "code",
   "execution_count": 145,
   "metadata": {
    "colab": {
     "base_uri": "https://localhost:8080/",
     "height": 275
    },
    "colab_type": "code",
    "id": "rhlP5Pulqjv5",
    "outputId": "03245c0c-28f0-4f8c-da26-0e5061b910bd"
   },
   "outputs": [
    {
     "data": {
      "image/png": "[encoded data removed]",
      "text/plain": [
       "<Figure size 288x288 with 1 Axes>"
      ]
     },
     "metadata": {
      "tags": []
     },
     "output_type": "display_data"
    }
   ],
   "source": [
    "np.fill_diagonal(norm_conf_mx, 0)\n",
    "plt.matshow(norm_conf_mx, cmap=plt.cm.gray)\n",
    "plt.show()"
   ]
  },
  {
   "cell_type": "code",
   "execution_count": 153,
   "metadata": {
    "colab": {
     "base_uri": "https://localhost:8080/",
     "height": 52
    },
    "colab_type": "code",
    "id": "Kmru5Nq2rMJT",
    "outputId": "4499d970-89fe-4665-d3f8-50dd68f633f7"
   },
   "outputs": [
    {
     "data": {
      "text/plain": [
       "array([0.96522033, 0.9584693 , 0.89207788, 0.86870005, 0.91749401,\n",
       "       0.84744512, 0.95217979, 0.9245012 , 0.85831482, 0.88334174])"
      ]
     },
     "execution_count": 153,
     "metadata": {
      "tags": []
     },
     "output_type": "execute_result"
    }
   ],
   "source": [
    "recall_score(y_train, y_train_pred, average=None)"
   ]
  },
  {
   "cell_type": "code",
   "execution_count": 154,
   "metadata": {
    "colab": {
     "base_uri": "https://localhost:8080/",
     "height": 52
    },
    "colab_type": "code",
    "id": "SWM1h9YAvfxM",
    "outputId": "f0b31d99-36db-4746-cac7-d7f494007d88"
   },
   "outputs": [
    {
     "data": {
      "text/plain": [
       "array([0.94246621, 0.94556629, 0.91559001, 0.89814503, 0.91780822,\n",
       "       0.8753811 , 0.92604766, 0.93089039, 0.85118644, 0.86573311])"
      ]
     },
     "execution_count": 154,
     "metadata": {
      "tags": []
     },
     "output_type": "execute_result"
    }
   ],
   "source": [
    "precision_score(y_train, y_train_pred, average=None)"
   ]
  },
  {
   "cell_type": "code",
   "execution_count": 170,
   "metadata": {
    "colab": {
     "base_uri": "https://localhost:8080/",
     "height": 35
    },
    "colab_type": "code",
    "id": "dPnEUEqLytqE",
    "outputId": "082c575d-1a30-427a-b529-bbd7db880532"
   },
   "outputs": [
    {
     "data": {
      "text/plain": [
       "0.9068814443410969"
      ]
     },
     "execution_count": 170,
     "metadata": {
      "tags": []
     },
     "output_type": "execute_result"
    }
   ],
   "source": [
    "precision_score(y_train, y_train_pred, average=None).sum()/10"
   ]
  },
  {
   "cell_type": "code",
   "execution_count": 169,
   "metadata": {
    "colab": {
     "base_uri": "https://localhost:8080/",
     "height": 35
    },
    "colab_type": "code",
    "id": "s5R8WnoswXAM",
    "outputId": "defdf8fb-c20c-4792-a211-b5cf6e9e0f50"
   },
   "outputs": [
    {
     "data": {
      "text/plain": [
       "0.9079666666666667"
      ]
     },
     "execution_count": 169,
     "metadata": {
      "tags": []
     },
     "output_type": "execute_result"
    }
   ],
   "source": [
    "precision_score(y_train, y_train_pred, average='micro')"
   ]
  },
  {
   "cell_type": "code",
   "execution_count": 171,
   "metadata": {
    "colab": {
     "base_uri": "https://localhost:8080/",
     "height": 35
    },
    "colab_type": "code",
    "id": "RQUjCMl6yyaR",
    "outputId": "10224651-aee6-4e9a-a5c7-7d86170282dd"
   },
   "outputs": [
    {
     "data": {
      "text/plain": [
       "0.9068814443410969"
      ]
     },
     "execution_count": 171,
     "metadata": {
      "tags": []
     },
     "output_type": "execute_result"
    }
   ],
   "source": [
    "precision_score(y_train, y_train_pred, average='macro')"
   ]
  },
  {
   "cell_type": "code",
   "execution_count": 158,
   "metadata": {
    "colab": {
     "base_uri": "https://localhost:8080/",
     "height": 191
    },
    "colab_type": "code",
    "id": "fjwyT7J1xPfO",
    "outputId": "cb8df20c-5740-473d-c548-537d375cc5dd"
   },
   "outputs": [
    {
     "data": {
      "text/plain": [
       "array([[5717,    2,   28,   11,   10,   43,   55,    8,   46,    3],\n",
       "       [   1, 6462,   42,   27,    6,   38,    9,    9,  136,   12],\n",
       "       [  57,   38, 5315,   94,   89,   30,  112,   53,  154,   16],\n",
       "       [  46,   45,  139, 5326,    4,  237,   42,   61,  133,   98],\n",
       "       [  18,   21,   36,    9, 5360,    8,   56,   30,   94,  210],\n",
       "       [  80,   39,   37,  180,   85, 4594,  114,   26,  168,   98],\n",
       "       [  30,   24,   39,    2,   40,   97, 5635,    4,   47,    0],\n",
       "       [  25,   26,   67,   30,   58,   10,    4, 5792,   19,  234],\n",
       "       [  52,  145,   72,  160,   14,  161,   56,   25, 5022,  144],\n",
       "       [  40,   32,   30,   91,  174,   30,    2,  214,   81, 5255]])"
      ]
     },
     "execution_count": 158,
     "metadata": {
      "tags": []
     },
     "output_type": "execute_result"
    }
   ],
   "source": [
    "conf_mx"
   ]
  },
  {
   "cell_type": "code",
   "execution_count": 159,
   "metadata": {
    "colab": {
     "base_uri": "https://localhost:8080/",
     "height": 35
    },
    "colab_type": "code",
    "id": "gFxpe0pWxcHN",
    "outputId": "1ccbec23-43c3-4a9b-dfbd-c601b1d93f56"
   },
   "outputs": [
    {
     "data": {
      "text/plain": [
       "array([6066, 6834, 5805, 5930, 5840, 5248, 6085, 6222, 5900, 6070])"
      ]
     },
     "execution_count": 159,
     "metadata": {
      "tags": []
     },
     "output_type": "execute_result"
    }
   ],
   "source": [
    "conf_mx.sum(axis=0)"
   ]
  },
  {
   "cell_type": "code",
   "execution_count": null,
   "metadata": {
    "colab": {},
    "colab_type": "code",
    "id": "rWqSCktUxoIZ"
   },
   "outputs": [],
   "source": [
    "fp = (conf_mx.sum(axis=0)-conf_mx.diagonal()).sum()"
   ]
  },
  {
   "cell_type": "code",
   "execution_count": null,
   "metadata": {
    "colab": {},
    "colab_type": "code",
    "id": "lY3IJmqTx5iO"
   },
   "outputs": [],
   "source": [
    "tp = conf_mx.diagonal().sum()"
   ]
  },
  {
   "cell_type": "code",
   "execution_count": 167,
   "metadata": {
    "colab": {
     "base_uri": "https://localhost:8080/",
     "height": 35
    },
    "colab_type": "code",
    "id": "ChEF0IgmyC3S",
    "outputId": "90fc11e8-c922-4c02-b9ee-9935ad9e0009"
   },
   "outputs": [
    {
     "name": "stdout",
     "output_type": "stream",
     "text": [
      "0.9079666666666667\n"
     ]
    }
   ],
   "source": [
    "pr = tp / (tp+fp)\n",
    "print(pr)"
   ]
  }
 ],
 "metadata": {
  "colab": {
   "collapsed_sections": [],
   "include_colab_link": true,
   "name": "4 Classification Solution.ipynb",
   "provenance": [],
   "version": "0.3.2"
  },
  "kernelspec": {
   "display_name": "Python 3",
   "language": "python",
   "name": "python3"
  },
  "language_info": {
   "codemirror_mode": {
    "name": "ipython",
    "version": 3
   },
   "file_extension": ".py",
   "mimetype": "text/x-python",
   "name": "python",
   "nbconvert_exporter": "python",
   "pygments_lexer": "ipython3",
   "version": "3.7.2"
  }
 },
 "nbformat": 4,
 "nbformat_minor": 2
}
