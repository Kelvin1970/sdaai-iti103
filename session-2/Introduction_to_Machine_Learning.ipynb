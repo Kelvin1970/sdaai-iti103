{
  "nbformat": 4,
  "nbformat_minor": 0,
  "metadata": {
    "colab": {
      "name": "2 Introduction to Machine Learning.ipynb",
      "provenance": [],
      "collapsed_sections": [],
      "include_colab_link": true
    },
    "kernelspec": {
      "display_name": "Python 3",
      "language": "python",
      "name": "python3"
    },
    "language_info": {
      "codemirror_mode": {
        "name": "ipython",
        "version": 3
      },
      "file_extension": ".py",
      "mimetype": "text/x-python",
      "name": "python",
      "nbconvert_exporter": "python",
      "pygments_lexer": "ipython3",
      "version": "3.6.7"
    }
  },
  "cells": [
    {
      "cell_type": "markdown",
      "metadata": {
        "id": "view-in-github",
        "colab_type": "text"
      },
      "source": [
        "<a href=\"https://colab.research.google.com/github/nyp-sit/sdaai-iti103/blob/master/session-2/Introduction_to_Machine_Learning.ipynb\" target=\"_parent\"><img src=\"https://colab.research.google.com/assets/colab-badge.svg\" alt=\"Open In Colab\"/></a>"
      ]
    },
    {
      "cell_type": "markdown",
      "metadata": {
        "colab_type": "text",
        "id": "mlcN8ctTgVbP"
      },
      "source": [
        "# Introduction to Machine Learning\n",
        "## Classification\n",
        "One of the very famous classification problems in Machine Learning is the IRIS Flower classification problem.  We want to predict the class of Iris given the Sepal, Petal lengths and widths.  The data we will use are in a file called Iris_Data.csv found in \n",
        "\n",
        "https://raw.githubusercontent.com/nyp-sit/data/master/Iris_Data.csv"
      ]
    },
    {
      "cell_type": "markdown",
      "metadata": {
        "colab_type": "text",
        "id": "GzNmjWJsib_P"
      },
      "source": [
        "## Basic Data Analysis\n",
        "Q1. Let's load the data from the url and perform basic data analysis.\n",
        "\n",
        "\n",
        "*   Check the sample size\n",
        "*   Check for the features\n",
        "*   Check if there is any missing values\n",
        "\n"
      ]
    },
    {
      "cell_type": "code",
      "metadata": {
        "cellView": "both",
        "colab_type": "code",
        "id": "J8iwY8Jxg9Rj",
        "colab": {}
      },
      "source": [
        "import pandas as pd\n",
        "url = 'https://raw.githubusercontent.com/nyp-sit/data/master/Iris_Data.csv'\n",
        "df = pd.read_csv(url)\n",
        "print(df.head())\n",
        "\n",
        "# Check the sample size\n",
        "\n",
        "# Check the features\n",
        "\n",
        "# Check for missing values\n"
      ],
      "execution_count": 0,
      "outputs": []
    },
    {
      "cell_type": "markdown",
      "metadata": {
        "colab_type": "text",
        "id": "pqr_VDvSpo-f"
      },
      "source": [
        "\n",
        "Let us first understand the datasets.  It consists of:\n",
        "*   150 rows of data\n",
        "*   The 3 **labels** are Iris-virginica, Iris-setosa and Iris-versicolor\n",
        "*   The 4 **features** are Sepal length, Sepal width, Petal length, Petal width in cm\n",
        "*   There is no missing values\n",
        "\n",
        "This is a **multi-class classification** problem, as there are more than 2 classes to be predicted.  \n",
        "\n"
      ]
    },
    {
      "cell_type": "markdown",
      "metadata": {
        "colab_type": "text",
        "id": "uQDmiV0HQUsu"
      },
      "source": [
        "## Exploratory Data Analysis\n",
        "\n",
        "Q2. Let's perform a univariate analysis on the data with\n",
        "\n",
        "*   a count plot to show the counts of each category of Iris species.  \n",
        "*   histograms to show the distribution of the 4 features, petal_width, petal_length, sepal_,length, sepal_width\n",
        "\n"
      ]
    },
    {
      "cell_type": "code",
      "metadata": {
        "colab_type": "code",
        "id": "U0VHGUGLlQEH",
        "colab": {}
      },
      "source": [
        "# count plot using matplotlib\n",
        "\n"
      ],
      "execution_count": 0,
      "outputs": []
    },
    {
      "cell_type": "code",
      "metadata": {
        "colab_type": "code",
        "id": "t6GSyOcmb7Ro",
        "colab": {}
      },
      "source": [
        "# count plot using seaborn\n",
        "\n"
      ],
      "execution_count": 0,
      "outputs": []
    },
    {
      "cell_type": "code",
      "metadata": {
        "colab_type": "code",
        "id": "nZmfOvnqZlu8",
        "colab": {}
      },
      "source": [
        "# Historgram to show distribution of features"
      ],
      "execution_count": 0,
      "outputs": []
    },
    {
      "cell_type": "code",
      "metadata": {
        "colab_type": "code",
        "id": "iCMYARvoh45F",
        "colab": {}
      },
      "source": [
        "# Histrogram with density plot (kde) using seaborn"
      ],
      "execution_count": 0,
      "outputs": []
    },
    {
      "cell_type": "markdown",
      "metadata": {
        "colab_type": "text",
        "id": "Qj9lIQt3hg6I"
      },
      "source": [
        "Q3. Let's perform multivariate analysis on the data with\n",
        "\n",
        "*  Scatter matrix \n",
        "*  Box plot"
      ]
    },
    {
      "cell_type": "code",
      "metadata": {
        "colab_type": "code",
        "id": "1_SEsECAODAq",
        "colab": {}
      },
      "source": [
        "# Scatter matrix / pair plots"
      ],
      "execution_count": 0,
      "outputs": []
    },
    {
      "cell_type": "code",
      "metadata": {
        "colab_type": "code",
        "id": "ojvutjOQuq_b",
        "colab": {}
      },
      "source": [
        "# pairplots using sns"
      ],
      "execution_count": 0,
      "outputs": []
    },
    {
      "cell_type": "code",
      "metadata": {
        "colab_type": "code",
        "id": "tMvcmdYgOJXh",
        "colab": {}
      },
      "source": [
        "# box plot using sns"
      ],
      "execution_count": 0,
      "outputs": []
    },
    {
      "cell_type": "markdown",
      "metadata": {
        "colab_type": "text",
        "id": "wjScFWUD6bk2"
      },
      "source": [
        "## Data Modelling"
      ]
    },
    {
      "cell_type": "markdown",
      "metadata": {
        "colab_type": "text",
        "id": "o1beHksTEggj"
      },
      "source": [
        "Q4. IRIS class prediction is a multiclass classification problem where target variable has three classes.  The goal is to construct a function which will correctly predict the class to which the new point belongs.\n",
        "\n",
        "We are going to need some data validate the accurary of our model.  We will split the loaded dataset into two, 80% of which we will use to train our models and 20% that we will use to validate our model.\n",
        "\n",
        "*  Create a validation test set using the [train_test_split](https://scikit-learn.org/stable/modules/generated/sklearn.model_selection.train_test_split.html) function\n"
      ]
    },
    {
      "cell_type": "code",
      "metadata": {
        "colab_type": "code",
        "id": "9P8-CpMnE58V",
        "colab": {}
      },
      "source": [
        "# Create a validation test set by splitting the data into 80/20 \n",
        "from sklearn.model_selection import train_test_split\n",
        "\n"
      ],
      "execution_count": 0,
      "outputs": []
    },
    {
      "cell_type": "markdown",
      "metadata": {
        "colab_type": "text",
        "id": "-CfZhuTIxNMv"
      },
      "source": [
        "Q5.  Proceed to train the data using Logistic Regression and K Nearest Neighbours.  Compute the accuracy score for both algorithm.\n",
        "\n",
        "[Accuracy Score](https://scikit-learn.org/stable/modules/generated/sklearn.metrics.accuracy_score.html)\n",
        "\n",
        "[Logistic Regression](https://scikit-learn.org/stable/modules/generated/sklearn.linear_model.LogisticRegression.html)\n",
        "\n",
        "[Nearest Neighbours](https://scikit-learn.org/stable/modules/neighbors.html)"
      ]
    },
    {
      "cell_type": "code",
      "metadata": {
        "colab_type": "code",
        "id": "H3Nqb1ZVw1yf",
        "colab": {}
      },
      "source": [
        ""
      ],
      "execution_count": 0,
      "outputs": []
    },
    {
      "cell_type": "markdown",
      "metadata": {
        "colab_type": "text",
        "id": "QY0fRyk6TOXv"
      },
      "source": [
        "Q6. Use K-fold cross-validation technique to randomly splits the training set into 10 distinct subsets to train and evaluate the Logistic Regression and KNN models 10 times and compare their results.  \n",
        "[Cross Validation](https://scikit-learn.org/stable/modules/cross_validation.html)"
      ]
    },
    {
      "cell_type": "code",
      "metadata": {
        "colab_type": "code",
        "id": "U3ah-f7KwuMH",
        "colab": {}
      },
      "source": [
        "# cross validation"
      ],
      "execution_count": 0,
      "outputs": []
    },
    {
      "cell_type": "markdown",
      "metadata": {
        "colab_type": "text",
        "id": "E1pp8yjr6o6w"
      },
      "source": [
        "## Regression"
      ]
    },
    {
      "cell_type": "markdown",
      "metadata": {
        "colab_type": "text",
        "id": "24yrcxBy6LeX"
      },
      "source": [
        "In machine learning, regression is used to predict the outcome of an event based on the relationship between variables obtained from the data-set.  Suppose we want to know if money makes people happy.  \n",
        "\n",
        "Q7. Let's load the [Better Life Index data](https://raw.githubusercontent.com/nyp-sit/data/master/Better_Life.csv) provided by OECD.  Examine and transform the data accordingly."
      ]
    },
    {
      "cell_type": "code",
      "metadata": {
        "colab_type": "code",
        "id": "yAw7U9_U4FvT",
        "colab": {}
      },
      "source": [
        ""
      ],
      "execution_count": 0,
      "outputs": []
    },
    {
      "cell_type": "markdown",
      "metadata": {
        "colab_type": "text",
        "id": "j5FQpYQh4JCe"
      },
      "source": [
        "Q8. Load the[ GDP per capita](https://raw.githubusercontent.com/nyp-sit/data/master/WEO_Data.csv) data provided by IMF."
      ]
    },
    {
      "cell_type": "code",
      "metadata": {
        "colab_type": "code",
        "id": "pNs-efJi4tA7",
        "colab": {}
      },
      "source": [
        ""
      ],
      "execution_count": 0,
      "outputs": []
    },
    {
      "cell_type": "markdown",
      "metadata": {
        "colab_type": "text",
        "id": "2DL0m1sG8Sx3"
      },
      "source": [
        "Q9. Prepare the data by merging the OECD's life satisfaction data and IMF's GDP per capita data.  \n",
        "\n",
        "*   Rename the colums to Country, Life satisfaction and GDP per capita\n",
        "*   Set the index to 'Country'\n",
        "*   Sort the table by GDP per capita \n",
        "\n"
      ]
    },
    {
      "cell_type": "code",
      "metadata": {
        "colab_type": "code",
        "id": "LpZXxiGu-w8j",
        "colab": {}
      },
      "source": [
        ""
      ],
      "execution_count": 0,
      "outputs": []
    },
    {
      "cell_type": "markdown",
      "metadata": {
        "colab_type": "text",
        "id": "22oe2QlvC9DH"
      },
      "source": [
        "Q10. Plot the scatter plot to show the relationship between Life satisfaction and GDP per capita"
      ]
    },
    {
      "cell_type": "code",
      "metadata": {
        "colab_type": "code",
        "id": "eEfBen9h93Lv",
        "colab": {}
      },
      "source": [
        ""
      ],
      "execution_count": 0,
      "outputs": []
    },
    {
      "cell_type": "markdown",
      "metadata": {
        "colab_type": "text",
        "id": "hY-g7FLhGib5"
      },
      "source": [
        "Q11.  Train the model and make a prediction for Cyprus with a GDP per capita of 22587"
      ]
    },
    {
      "cell_type": "code",
      "metadata": {
        "colab_type": "code",
        "id": "WPTeVW0GHZ42",
        "colab": {}
      },
      "source": [
        ""
      ],
      "execution_count": 0,
      "outputs": []
    }
  ]
}