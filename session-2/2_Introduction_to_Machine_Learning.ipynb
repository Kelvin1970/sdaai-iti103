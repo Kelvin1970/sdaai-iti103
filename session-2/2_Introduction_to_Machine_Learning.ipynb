{
  "nbformat": 4,
  "nbformat_minor": 0,
  "metadata": {
    "colab": {
      "name": "2 Introduction to Machine Learning.ipynb",
      "version": "0.3.2",
      "provenance": [],
      "collapsed_sections": [],
      "include_colab_link": true
    },
    "kernelspec": {
      "name": "python3",
      "display_name": "Python 3"
    }
  },
  "cells": [
    {
      "cell_type": "markdown",
      "metadata": {
        "id": "view-in-github",
        "colab_type": "text"
      },
      "source": [
        "<a href=\"https://colab.research.google.com/github/nyp-sit/sdaai-iti103/blob/master/2_Introduction_to_Machine_Learning.ipynb\" target=\"_parent\"><img src=\"https://colab.research.google.com/assets/colab-badge.svg\" alt=\"Open In Colab\"/></a>"
      ]
    },
    {
      "cell_type": "markdown",
      "metadata": {
        "id": "mlcN8ctTgVbP",
        "colab_type": "text"
      },
      "source": [
        "# Introduction to Machine Learning\n",
        "## Classification\n",
        "One of the very famous classification problems in Machine Learning is the IRIS Flower classification problem.  We want to predict the class of Iris given the Sepal, Petal lengths and widths.  The data we will use are in a file called Iris_Data.csv found in \n",
        "\n",
        "https://raw.githubusercontent.com/nyp-sit/data/master/Iris_Data.csv"
      ]
    },
    {
      "cell_type": "markdown",
      "metadata": {
        "id": "GzNmjWJsib_P",
        "colab_type": "text"
      },
      "source": [
        "## Basic Data Analysis\n",
        "Q1. Let's load the data from the url and perform basic data analysis.\n",
        "\n",
        "\n",
        "*   Check the sample size\n",
        "*   Check for the features\n",
        "*   Check if there is any missing values\n",
        "\n"
      ]
    },
    {
      "cell_type": "code",
      "metadata": {
        "id": "J8iwY8Jxg9Rj",
        "colab_type": "code",
        "cellView": "both",
        "outputId": "3c3b39ec-f640-4986-ad92-f855409fb9ba",
        "colab": {
          "base_uri": "https://localhost:8080/",
          "height": 123
        }
      },
      "source": [
        "import pandas as pd\n",
        "url = 'https://raw.githubusercontent.com/nyp-sit/data/master/Iris_Data.csv'\n",
        "df = pd.read_csv(url)\n",
        "print(df.head())\n",
        "\n",
        "# Check the sample size\n",
        "\n",
        "# Check the features\n",
        "\n",
        "# Check for missing values\n"
      ],
      "execution_count": 0,
      "outputs": [
        {
          "output_type": "stream",
          "text": [
            "   sepal_length  sepal_width  petal_length  petal_width      species\n",
            "0           5.1          3.5           1.4          0.2  Iris-setosa\n",
            "1           4.9          3.0           1.4          0.2  Iris-setosa\n",
            "2           4.7          3.2           1.3          0.2  Iris-setosa\n",
            "3           4.6          3.1           1.5          0.2  Iris-setosa\n",
            "4           5.0          3.6           1.4          0.2  Iris-setosa\n"
          ],
          "name": "stdout"
        }
      ]
    },
    {
      "cell_type": "markdown",
      "metadata": {
        "id": "pqr_VDvSpo-f",
        "colab_type": "text"
      },
      "source": [
        "\n",
        "Let us first understand the datasets.  It consists of:\n",
        "*   150 rows of data\n",
        "*   The 3 **labels** are Iris-virginica, Iris-setosa and Iris-versicolor\n",
        "*   The 4 **features** are Sepal length, Sepal width, Petal length, Petal width in cm\n",
        "*   There is no missing values\n",
        "\n",
        "This is a **multi-class classification** problem, as there are more than 2 classes to be predicted.  \n",
        "\n"
      ]
    },
    {
      "cell_type": "markdown",
      "metadata": {
        "id": "uQDmiV0HQUsu",
        "colab_type": "text"
      },
      "source": [
        "## Exploratory Data Analysis\n",
        "\n",
        "Q2. Let's perform a univariate analysis on the data with\n",
        "\n",
        "*   a count plot to show the counts of each category of Iris species.  \n",
        "*   histograms to show the distribution of the 4 features, petal_width, petal_length, sepal_,length, sepal_width\n",
        "\n"
      ]
    },
    {
      "cell_type": "code",
      "metadata": {
        "id": "U0VHGUGLlQEH",
        "colab_type": "code",
        "colab": {}
      },
      "source": [
        "# count plot using matplotlib\n",
        "\n"
      ],
      "execution_count": 0,
      "outputs": []
    },
    {
      "cell_type": "code",
      "metadata": {
        "id": "t6GSyOcmb7Ro",
        "colab_type": "code",
        "colab": {}
      },
      "source": [
        "# count plot using seaborn\n",
        "\n"
      ],
      "execution_count": 0,
      "outputs": []
    },
    {
      "cell_type": "code",
      "metadata": {
        "id": "nZmfOvnqZlu8",
        "colab_type": "code",
        "colab": {}
      },
      "source": [
        "# Historgram to show distribution of features"
      ],
      "execution_count": 0,
      "outputs": []
    },
    {
      "cell_type": "code",
      "metadata": {
        "id": "iCMYARvoh45F",
        "colab_type": "code",
        "colab": {}
      },
      "source": [
        "# Histrogram with density plot (kde) using seaborn"
      ],
      "execution_count": 0,
      "outputs": []
    },
    {
      "cell_type": "markdown",
      "metadata": {
        "id": "Qj9lIQt3hg6I",
        "colab_type": "text"
      },
      "source": [
        "Q3. Let's perform multivariate analysis on the data with\n",
        "\n",
        "*  Scatter matrix \n",
        "*  Box plot"
      ]
    },
    {
      "cell_type": "code",
      "metadata": {
        "id": "1_SEsECAODAq",
        "colab_type": "code",
        "colab": {}
      },
      "source": [
        "# Scatter matrix / pair plots"
      ],
      "execution_count": 0,
      "outputs": []
    },
    {
      "cell_type": "code",
      "metadata": {
        "id": "ojvutjOQuq_b",
        "colab_type": "code",
        "colab": {}
      },
      "source": [
        "# pairplots using sns"
      ],
      "execution_count": 0,
      "outputs": []
    },
    {
      "cell_type": "code",
      "metadata": {
        "id": "tMvcmdYgOJXh",
        "colab_type": "code",
        "colab": {}
      },
      "source": [
        "# box plot using sns"
      ],
      "execution_count": 0,
      "outputs": []
    },
    {
      "cell_type": "markdown",
      "metadata": {
        "id": "wjScFWUD6bk2",
        "colab_type": "text"
      },
      "source": [
        "## Data Modelling"
      ]
    },
    {
      "cell_type": "markdown",
      "metadata": {
        "id": "o1beHksTEggj",
        "colab_type": "text"
      },
      "source": [
        "Q4. IRIS class prediction is a multiclass classification problem where target variable has three classes.  The goal is to construct a function which will correctly predict the class to which the new point belongs.\n",
        "\n",
        "We are going to need some data validate the accurary of our model.  We will split the loaded dataset into two, 80% of which we will use to train our models and 20% that we will use to validate our model.\n",
        "\n",
        "*  Create a validation test set using the [train_test_split](https://scikit-learn.org/stable/modules/generated/sklearn.model_selection.train_test_split.html) function\n"
      ]
    },
    {
      "cell_type": "code",
      "metadata": {
        "id": "9P8-CpMnE58V",
        "colab_type": "code",
        "colab": {}
      },
      "source": [
        "# Create a validation test set by splitting the data into 80/20 \n",
        "from sklearn.model_selection import train_test_split\n",
        "\n"
      ],
      "execution_count": 0,
      "outputs": []
    },
    {
      "cell_type": "markdown",
      "metadata": {
        "id": "-CfZhuTIxNMv",
        "colab_type": "text"
      },
      "source": [
        "Q5.  Proceed to train the data using Logistic Regression and K Nearest Neighbours.  Compute the accuracy score for both algorithm.\n",
        "\n",
        "[Accuracy Score](https://scikit-learn.org/stable/modules/generated/sklearn.metrics.accuracy_score.html)\n",
        "\n",
        "[Logistic Regression](https://scikit-learn.org/stable/modules/generated/sklearn.linear_model.LogisticRegression.html)\n",
        "\n",
        "[Nearest Neighbours](https://scikit-learn.org/stable/modules/neighbors.html)"
      ]
    },
    {
      "cell_type": "code",
      "metadata": {
        "id": "H3Nqb1ZVw1yf",
        "colab_type": "code",
        "colab": {}
      },
      "source": [
        ""
      ],
      "execution_count": 0,
      "outputs": []
    },
    {
      "cell_type": "markdown",
      "metadata": {
        "id": "QY0fRyk6TOXv",
        "colab_type": "text"
      },
      "source": [
        "Q6. Use K-fold cross-validation technique to randomly splits the training set into 10 distinct subsets to train and evaluate the Logistic Regression and KNN models 10 times and compare their results.  \n",
        "[Cross Validation](https://scikit-learn.org/stable/modules/cross_validation.html)"
      ]
    },
    {
      "cell_type": "code",
      "metadata": {
        "id": "U3ah-f7KwuMH",
        "colab_type": "code",
        "colab": {}
      },
      "source": [
        "# cross validation"
      ],
      "execution_count": 0,
      "outputs": []
    },
    {
      "cell_type": "markdown",
      "metadata": {
        "id": "E1pp8yjr6o6w",
        "colab_type": "text"
      },
      "source": [
        "## Regression"
      ]
    },
    {
      "cell_type": "markdown",
      "metadata": {
        "id": "24yrcxBy6LeX",
        "colab_type": "text"
      },
      "source": [
        "In machine learning, regression is used to predict the outcome of an event based on the relationship between variables obtained from the data-set.  Suppose we want to know if money makes people happy.  \n",
        "\n",
        "Q7. Let's load the [Better Life Index data](https://raw.githubusercontent.com/nyp-sit/data/master/Better_Life.csv) provided by OECD.  Examine and transform the data accordingly."
      ]
    },
    {
      "cell_type": "code",
      "metadata": {
        "id": "yAw7U9_U4FvT",
        "colab_type": "code",
        "colab": {}
      },
      "source": [
        ""
      ],
      "execution_count": 0,
      "outputs": []
    },
    {
      "cell_type": "markdown",
      "metadata": {
        "id": "j5FQpYQh4JCe",
        "colab_type": "text"
      },
      "source": [
        "Q8. Load the[ GDP per capita](https://raw.githubusercontent.com/nyp-sit/data/master/WEO_Data.csv) data provided by IMF."
      ]
    },
    {
      "cell_type": "code",
      "metadata": {
        "id": "pNs-efJi4tA7",
        "colab_type": "code",
        "colab": {}
      },
      "source": [
        ""
      ],
      "execution_count": 0,
      "outputs": []
    },
    {
      "cell_type": "markdown",
      "metadata": {
        "id": "2DL0m1sG8Sx3",
        "colab_type": "text"
      },
      "source": [
        "Q9. Prepare the data by merging the OECD's life satisfaction data and IMF's GDP per capita data.  \n",
        "\n",
        "*   Rename the colums to Country, Life satisfaction and GDP per capita\n",
        "*   Set the index to 'Country'\n",
        "*   Sort the table by GDP per capita \n",
        "\n"
      ]
    },
    {
      "cell_type": "code",
      "metadata": {
        "id": "LpZXxiGu-w8j",
        "colab_type": "code",
        "colab": {}
      },
      "source": [
        ""
      ],
      "execution_count": 0,
      "outputs": []
    },
    {
      "cell_type": "markdown",
      "metadata": {
        "id": "22oe2QlvC9DH",
        "colab_type": "text"
      },
      "source": [
        "Q10. Plot the scatter plot to show the relationship between Life satisfaction and GDP per capita"
      ]
    },
    {
      "cell_type": "code",
      "metadata": {
        "id": "eEfBen9h93Lv",
        "colab_type": "code",
        "colab": {}
      },
      "source": [
        ""
      ],
      "execution_count": 0,
      "outputs": []
    },
    {
      "cell_type": "markdown",
      "metadata": {
        "id": "hY-g7FLhGib5",
        "colab_type": "text"
      },
      "source": [
        "Q11.  Train the model and make a prediction for Cyprus with a GDP per capita of 22587"
      ]
    },
    {
      "cell_type": "code",
      "metadata": {
        "id": "WPTeVW0GHZ42",
        "colab_type": "code",
        "colab": {}
      },
      "source": [
        ""
      ],
      "execution_count": 0,
      "outputs": []
    }
  ]
}
